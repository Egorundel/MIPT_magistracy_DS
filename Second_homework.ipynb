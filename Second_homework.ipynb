{
 "cells": [
  {
   "cell_type": "markdown",
   "metadata": {},
   "source": [
    "## Импорт библиотек"
   ]
  },
  {
   "cell_type": "code",
   "execution_count": 1,
   "metadata": {},
   "outputs": [],
   "source": [
    "import pandas as pd\n",
    "import numpy as np\n",
    "import seaborn as sns\n",
    "import matplotlib.pyplot as plt\n",
    "from matplotlib.ticker import FuncFormatter\n",
    "pd.set_option('display.max_rows', 500)"
   ]
  },
  {
   "cell_type": "markdown",
   "metadata": {},
   "source": [
    "## train.csv\n",
    "\n",
    "- **row_id: (int64)** ID строки\n",
    "- **timestamp: (int64)** время в милисекундах между началом сессии и завершением задания юзером\n",
    "- **user_id: (int32)** ID юзера\n",
    "- **content_id: (int16)** ID вопроса/лекции\n",
    "- **content_type_id: (int8)** 0 - вопрос(ы), 1 - лекция\n",
    "- **task_container_id: (int16)** ID блока вопросов или лекции (может включать в себя несколько content_id)\n",
    "- **user_answer: (int8)** ответ юзера на вопрос. -1 - пустое значение для лекций\n",
    "- **answered_correctly: (int8)** 1 -ответил верно, 0 -неверно, -1 -пустое значение для лекций\n",
    "- **prior_question_elapsed_time: (float32)** среднее время в милисекундах, затраченное юзером на ответы на предыдущий блок - вопросов (лекции в промежутке игнорируются). Для первого - значение 0.\n",
    "- **prior_question_had_explanation: (bool)** видел ли юзер правильный ответ и объяснение на предыдущий блок вопросов (лекции в промежутке игнорируются). Для первого - значение 0. Обычно первые вопросы, которые видит юзер - вступительный тест, на который нет фидбека."
   ]
  },
  {
   "cell_type": "code",
   "execution_count": 2,
   "metadata": {},
   "outputs": [
    {
     "data": {
      "text/html": [
       "<div>\n",
       "<style scoped>\n",
       "    .dataframe tbody tr th:only-of-type {\n",
       "        vertical-align: middle;\n",
       "    }\n",
       "\n",
       "    .dataframe tbody tr th {\n",
       "        vertical-align: top;\n",
       "    }\n",
       "\n",
       "    .dataframe thead th {\n",
       "        text-align: right;\n",
       "    }\n",
       "</style>\n",
       "<table border=\"1\" class=\"dataframe\">\n",
       "  <thead>\n",
       "    <tr style=\"text-align: right;\">\n",
       "      <th></th>\n",
       "      <th>timestamp</th>\n",
       "      <th>user_id</th>\n",
       "      <th>content_id</th>\n",
       "      <th>content_type_id</th>\n",
       "      <th>task_container_id</th>\n",
       "      <th>user_answer</th>\n",
       "      <th>answered_correctly</th>\n",
       "      <th>prior_question_elapsed_time</th>\n",
       "      <th>prior_question_had_explanation</th>\n",
       "    </tr>\n",
       "    <tr>\n",
       "      <th>row_id</th>\n",
       "      <th></th>\n",
       "      <th></th>\n",
       "      <th></th>\n",
       "      <th></th>\n",
       "      <th></th>\n",
       "      <th></th>\n",
       "      <th></th>\n",
       "      <th></th>\n",
       "      <th></th>\n",
       "    </tr>\n",
       "  </thead>\n",
       "  <tbody>\n",
       "    <tr>\n",
       "      <th>0</th>\n",
       "      <td>0</td>\n",
       "      <td>115</td>\n",
       "      <td>5692</td>\n",
       "      <td>0</td>\n",
       "      <td>1</td>\n",
       "      <td>3</td>\n",
       "      <td>1</td>\n",
       "      <td>NaN</td>\n",
       "      <td>NaN</td>\n",
       "    </tr>\n",
       "    <tr>\n",
       "      <th>1</th>\n",
       "      <td>56943</td>\n",
       "      <td>115</td>\n",
       "      <td>5716</td>\n",
       "      <td>0</td>\n",
       "      <td>2</td>\n",
       "      <td>2</td>\n",
       "      <td>1</td>\n",
       "      <td>37000.0</td>\n",
       "      <td>False</td>\n",
       "    </tr>\n",
       "    <tr>\n",
       "      <th>2</th>\n",
       "      <td>118363</td>\n",
       "      <td>115</td>\n",
       "      <td>128</td>\n",
       "      <td>0</td>\n",
       "      <td>0</td>\n",
       "      <td>0</td>\n",
       "      <td>1</td>\n",
       "      <td>55000.0</td>\n",
       "      <td>False</td>\n",
       "    </tr>\n",
       "    <tr>\n",
       "      <th>3</th>\n",
       "      <td>131167</td>\n",
       "      <td>115</td>\n",
       "      <td>7860</td>\n",
       "      <td>0</td>\n",
       "      <td>3</td>\n",
       "      <td>0</td>\n",
       "      <td>1</td>\n",
       "      <td>19000.0</td>\n",
       "      <td>False</td>\n",
       "    </tr>\n",
       "    <tr>\n",
       "      <th>4</th>\n",
       "      <td>137965</td>\n",
       "      <td>115</td>\n",
       "      <td>7922</td>\n",
       "      <td>0</td>\n",
       "      <td>4</td>\n",
       "      <td>1</td>\n",
       "      <td>1</td>\n",
       "      <td>11000.0</td>\n",
       "      <td>False</td>\n",
       "    </tr>\n",
       "    <tr>\n",
       "      <th>5</th>\n",
       "      <td>157063</td>\n",
       "      <td>115</td>\n",
       "      <td>156</td>\n",
       "      <td>0</td>\n",
       "      <td>5</td>\n",
       "      <td>2</td>\n",
       "      <td>1</td>\n",
       "      <td>5000.0</td>\n",
       "      <td>False</td>\n",
       "    </tr>\n",
       "    <tr>\n",
       "      <th>6</th>\n",
       "      <td>176092</td>\n",
       "      <td>115</td>\n",
       "      <td>51</td>\n",
       "      <td>0</td>\n",
       "      <td>6</td>\n",
       "      <td>0</td>\n",
       "      <td>1</td>\n",
       "      <td>17000.0</td>\n",
       "      <td>False</td>\n",
       "    </tr>\n",
       "    <tr>\n",
       "      <th>7</th>\n",
       "      <td>194190</td>\n",
       "      <td>115</td>\n",
       "      <td>50</td>\n",
       "      <td>0</td>\n",
       "      <td>7</td>\n",
       "      <td>3</td>\n",
       "      <td>1</td>\n",
       "      <td>17000.0</td>\n",
       "      <td>False</td>\n",
       "    </tr>\n",
       "    <tr>\n",
       "      <th>8</th>\n",
       "      <td>212463</td>\n",
       "      <td>115</td>\n",
       "      <td>7896</td>\n",
       "      <td>0</td>\n",
       "      <td>8</td>\n",
       "      <td>2</td>\n",
       "      <td>1</td>\n",
       "      <td>16000.0</td>\n",
       "      <td>False</td>\n",
       "    </tr>\n",
       "    <tr>\n",
       "      <th>9</th>\n",
       "      <td>230983</td>\n",
       "      <td>115</td>\n",
       "      <td>7863</td>\n",
       "      <td>0</td>\n",
       "      <td>9</td>\n",
       "      <td>0</td>\n",
       "      <td>1</td>\n",
       "      <td>16000.0</td>\n",
       "      <td>False</td>\n",
       "    </tr>\n",
       "    <tr>\n",
       "      <th>10</th>\n",
       "      <td>255381</td>\n",
       "      <td>115</td>\n",
       "      <td>152</td>\n",
       "      <td>0</td>\n",
       "      <td>10</td>\n",
       "      <td>2</td>\n",
       "      <td>0</td>\n",
       "      <td>17000.0</td>\n",
       "      <td>False</td>\n",
       "    </tr>\n",
       "    <tr>\n",
       "      <th>11</th>\n",
       "      <td>280033</td>\n",
       "      <td>115</td>\n",
       "      <td>104</td>\n",
       "      <td>0</td>\n",
       "      <td>11</td>\n",
       "      <td>1</td>\n",
       "      <td>0</td>\n",
       "      <td>22000.0</td>\n",
       "      <td>False</td>\n",
       "    </tr>\n",
       "    <tr>\n",
       "      <th>12</th>\n",
       "      <td>302994</td>\n",
       "      <td>115</td>\n",
       "      <td>108</td>\n",
       "      <td>0</td>\n",
       "      <td>12</td>\n",
       "      <td>1</td>\n",
       "      <td>0</td>\n",
       "      <td>23000.0</td>\n",
       "      <td>False</td>\n",
       "    </tr>\n",
       "    <tr>\n",
       "      <th>13</th>\n",
       "      <td>328686</td>\n",
       "      <td>115</td>\n",
       "      <td>7900</td>\n",
       "      <td>0</td>\n",
       "      <td>13</td>\n",
       "      <td>0</td>\n",
       "      <td>1</td>\n",
       "      <td>21000.0</td>\n",
       "      <td>False</td>\n",
       "    </tr>\n",
       "    <tr>\n",
       "      <th>14</th>\n",
       "      <td>352686</td>\n",
       "      <td>115</td>\n",
       "      <td>7901</td>\n",
       "      <td>0</td>\n",
       "      <td>14</td>\n",
       "      <td>1</td>\n",
       "      <td>1</td>\n",
       "      <td>24000.0</td>\n",
       "      <td>False</td>\n",
       "    </tr>\n",
       "    <tr>\n",
       "      <th>15</th>\n",
       "      <td>376162</td>\n",
       "      <td>115</td>\n",
       "      <td>7971</td>\n",
       "      <td>0</td>\n",
       "      <td>15</td>\n",
       "      <td>2</td>\n",
       "      <td>1</td>\n",
       "      <td>22000.0</td>\n",
       "      <td>False</td>\n",
       "    </tr>\n",
       "    <tr>\n",
       "      <th>16</th>\n",
       "      <td>398020</td>\n",
       "      <td>115</td>\n",
       "      <td>25</td>\n",
       "      <td>0</td>\n",
       "      <td>16</td>\n",
       "      <td>1</td>\n",
       "      <td>1</td>\n",
       "      <td>21000.0</td>\n",
       "      <td>False</td>\n",
       "    </tr>\n",
       "    <tr>\n",
       "      <th>17</th>\n",
       "      <td>418008</td>\n",
       "      <td>115</td>\n",
       "      <td>183</td>\n",
       "      <td>0</td>\n",
       "      <td>17</td>\n",
       "      <td>0</td>\n",
       "      <td>0</td>\n",
       "      <td>20000.0</td>\n",
       "      <td>False</td>\n",
       "    </tr>\n",
       "    <tr>\n",
       "      <th>18</th>\n",
       "      <td>437272</td>\n",
       "      <td>115</td>\n",
       "      <td>7926</td>\n",
       "      <td>0</td>\n",
       "      <td>18</td>\n",
       "      <td>1</td>\n",
       "      <td>1</td>\n",
       "      <td>18000.0</td>\n",
       "      <td>False</td>\n",
       "    </tr>\n",
       "    <tr>\n",
       "      <th>19</th>\n",
       "      <td>468511</td>\n",
       "      <td>115</td>\n",
       "      <td>7927</td>\n",
       "      <td>0</td>\n",
       "      <td>19</td>\n",
       "      <td>3</td>\n",
       "      <td>1</td>\n",
       "      <td>17000.0</td>\n",
       "      <td>False</td>\n",
       "    </tr>\n",
       "  </tbody>\n",
       "</table>\n",
       "</div>"
      ],
      "text/plain": [
       "        timestamp  user_id  content_id  content_type_id  task_container_id  \\\n",
       "row_id                                                                       \n",
       "0               0      115        5692                0                  1   \n",
       "1           56943      115        5716                0                  2   \n",
       "2          118363      115         128                0                  0   \n",
       "3          131167      115        7860                0                  3   \n",
       "4          137965      115        7922                0                  4   \n",
       "5          157063      115         156                0                  5   \n",
       "6          176092      115          51                0                  6   \n",
       "7          194190      115          50                0                  7   \n",
       "8          212463      115        7896                0                  8   \n",
       "9          230983      115        7863                0                  9   \n",
       "10         255381      115         152                0                 10   \n",
       "11         280033      115         104                0                 11   \n",
       "12         302994      115         108                0                 12   \n",
       "13         328686      115        7900                0                 13   \n",
       "14         352686      115        7901                0                 14   \n",
       "15         376162      115        7971                0                 15   \n",
       "16         398020      115          25                0                 16   \n",
       "17         418008      115         183                0                 17   \n",
       "18         437272      115        7926                0                 18   \n",
       "19         468511      115        7927                0                 19   \n",
       "\n",
       "        user_answer  answered_correctly  prior_question_elapsed_time  \\\n",
       "row_id                                                                 \n",
       "0                 3                   1                          NaN   \n",
       "1                 2                   1                      37000.0   \n",
       "2                 0                   1                      55000.0   \n",
       "3                 0                   1                      19000.0   \n",
       "4                 1                   1                      11000.0   \n",
       "5                 2                   1                       5000.0   \n",
       "6                 0                   1                      17000.0   \n",
       "7                 3                   1                      17000.0   \n",
       "8                 2                   1                      16000.0   \n",
       "9                 0                   1                      16000.0   \n",
       "10                2                   0                      17000.0   \n",
       "11                1                   0                      22000.0   \n",
       "12                1                   0                      23000.0   \n",
       "13                0                   1                      21000.0   \n",
       "14                1                   1                      24000.0   \n",
       "15                2                   1                      22000.0   \n",
       "16                1                   1                      21000.0   \n",
       "17                0                   0                      20000.0   \n",
       "18                1                   1                      18000.0   \n",
       "19                3                   1                      17000.0   \n",
       "\n",
       "       prior_question_had_explanation  \n",
       "row_id                                 \n",
       "0                                 NaN  \n",
       "1                               False  \n",
       "2                               False  \n",
       "3                               False  \n",
       "4                               False  \n",
       "5                               False  \n",
       "6                               False  \n",
       "7                               False  \n",
       "8                               False  \n",
       "9                               False  \n",
       "10                              False  \n",
       "11                              False  \n",
       "12                              False  \n",
       "13                              False  \n",
       "14                              False  \n",
       "15                              False  \n",
       "16                              False  \n",
       "17                              False  \n",
       "18                              False  \n",
       "19                              False  "
      ]
     },
     "execution_count": 2,
     "metadata": {},
     "output_type": "execute_result"
    }
   ],
   "source": [
    "train = pd.read_csv(\"data/train.csv\", index_col=0)\n",
    "train.head(20)"
   ]
  },
  {
   "cell_type": "markdown",
   "metadata": {},
   "source": [
    "#### Посмотрим на размерность датасета"
   ]
  },
  {
   "cell_type": "code",
   "execution_count": 3,
   "metadata": {},
   "outputs": [
    {
     "data": {
      "text/plain": [
       "(499999, 9)"
      ]
     },
     "execution_count": 3,
     "metadata": {},
     "output_type": "execute_result"
    }
   ],
   "source": [
    "train.shape"
   ]
  },
  {
   "cell_type": "markdown",
   "metadata": {},
   "source": [
    "#### Проверим сколько памяти используют наши данные"
   ]
  },
  {
   "cell_type": "code",
   "execution_count": 4,
   "metadata": {},
   "outputs": [
    {
     "data": {
      "text/plain": [
       "Index                              3999992\n",
       "timestamp                          3999992\n",
       "user_id                            3999992\n",
       "content_id                         3999992\n",
       "content_type_id                    3999992\n",
       "task_container_id                  3999992\n",
       "user_answer                        3999992\n",
       "answered_correctly                 3999992\n",
       "prior_question_elapsed_time        3999992\n",
       "prior_question_had_explanation    17792812\n",
       "dtype: int64"
      ]
     },
     "execution_count": 4,
     "metadata": {},
     "output_type": "execute_result"
    }
   ],
   "source": [
    "train.memory_usage(deep=True)"
   ]
  },
  {
   "cell_type": "code",
   "execution_count": 5,
   "metadata": {},
   "outputs": [
    {
     "name": "stdout",
     "output_type": "stream",
     "text": [
      "<class 'pandas.core.frame.DataFrame'>\n",
      "Int64Index: 499999 entries, 0 to 499998\n",
      "Data columns (total 9 columns):\n",
      " #   Column                          Non-Null Count   Dtype  \n",
      "---  ------                          --------------   -----  \n",
      " 0   timestamp                       499999 non-null  int64  \n",
      " 1   user_id                         499999 non-null  int64  \n",
      " 2   content_id                      499999 non-null  int64  \n",
      " 3   content_type_id                 499999 non-null  int64  \n",
      " 4   task_container_id               499999 non-null  int64  \n",
      " 5   user_answer                     499999 non-null  int64  \n",
      " 6   answered_correctly              499999 non-null  int64  \n",
      " 7   prior_question_elapsed_time     488372 non-null  float64\n",
      " 8   prior_question_had_explanation  498253 non-null  object \n",
      "dtypes: float64(1), int64(7), object(1)\n",
      "memory usage: 38.1+ MB\n"
     ]
    }
   ],
   "source": [
    "train.info()"
   ]
  },
  {
   "cell_type": "markdown",
   "metadata": {},
   "source": [
    "#### Оптимизируем типы данных для уменьшения объема используемой памяти"
   ]
  },
  {
   "cell_type": "code",
   "execution_count": 6,
   "metadata": {},
   "outputs": [
    {
     "name": "stdout",
     "output_type": "stream",
     "text": [
      "<class 'pandas.core.frame.DataFrame'>\n",
      "Int64Index: 499999 entries, 0 to 499998\n",
      "Data columns (total 9 columns):\n",
      " #   Column                          Non-Null Count   Dtype  \n",
      "---  ------                          --------------   -----  \n",
      " 0   timestamp                       499999 non-null  int64  \n",
      " 1   user_id                         499999 non-null  int32  \n",
      " 2   content_id                      499999 non-null  int16  \n",
      " 3   content_type_id                 499999 non-null  boolean\n",
      " 4   task_container_id               499999 non-null  int16  \n",
      " 5   user_answer                     499999 non-null  int8   \n",
      " 6   answered_correctly              499999 non-null  int8   \n",
      " 7   prior_question_elapsed_time     488372 non-null  float32\n",
      " 8   prior_question_had_explanation  498253 non-null  boolean\n",
      "dtypes: boolean(2), float32(1), int16(2), int32(1), int64(1), int8(2)\n",
      "memory usage: 16.2 MB\n"
     ]
    }
   ],
   "source": [
    "train['prior_question_had_explanation'] = train['prior_question_had_explanation'].astype('boolean')\n",
    "\n",
    "train['user_id']=train['user_id'].astype('int32')\n",
    "train['content_id']=train['content_id'].astype('int16')\n",
    "train['content_type_id']=train['content_type_id'].astype('boolean')\n",
    "train['task_container_id']=train['task_container_id'].astype('int16')\n",
    "train['user_answer']=train['user_answer'].astype('int8')\n",
    "train['answered_correctly']=train['answered_correctly'].astype('int8')\n",
    "train['prior_question_elapsed_time']=train['prior_question_elapsed_time'].astype('float32')\n",
    "train['prior_question_elapsed_time']=train['prior_question_elapsed_time'].astype('float32')\n",
    "\n",
    "train.info()"
   ]
  },
  {
   "cell_type": "markdown",
   "metadata": {},
   "source": [
    "## lectures.csv\n",
    "\n",
    "- **lecture_id:** внешний ключ для столбца train/test content_id, когда тип содержимого - lecture (1).\n",
    "- **part:** код категории верхнего уровня для лекции.\n",
    "- **tag:** один тег кодирует лекцию. Значение тегов не будет указано, но этих кодов достаточно для объединения лекций в кластеры.\n",
    "- **type_of:** краткое описание основной цели лекции"
   ]
  },
  {
   "cell_type": "code",
   "execution_count": 7,
   "metadata": {},
   "outputs": [
    {
     "data": {
      "text/html": [
       "<div>\n",
       "<style scoped>\n",
       "    .dataframe tbody tr th:only-of-type {\n",
       "        vertical-align: middle;\n",
       "    }\n",
       "\n",
       "    .dataframe tbody tr th {\n",
       "        vertical-align: top;\n",
       "    }\n",
       "\n",
       "    .dataframe thead th {\n",
       "        text-align: right;\n",
       "    }\n",
       "</style>\n",
       "<table border=\"1\" class=\"dataframe\">\n",
       "  <thead>\n",
       "    <tr style=\"text-align: right;\">\n",
       "      <th></th>\n",
       "      <th>lecture_id</th>\n",
       "      <th>tag</th>\n",
       "      <th>part</th>\n",
       "      <th>type_of</th>\n",
       "    </tr>\n",
       "  </thead>\n",
       "  <tbody>\n",
       "    <tr>\n",
       "      <th>0</th>\n",
       "      <td>89</td>\n",
       "      <td>159</td>\n",
       "      <td>5</td>\n",
       "      <td>concept</td>\n",
       "    </tr>\n",
       "    <tr>\n",
       "      <th>1</th>\n",
       "      <td>100</td>\n",
       "      <td>70</td>\n",
       "      <td>1</td>\n",
       "      <td>concept</td>\n",
       "    </tr>\n",
       "    <tr>\n",
       "      <th>2</th>\n",
       "      <td>185</td>\n",
       "      <td>45</td>\n",
       "      <td>6</td>\n",
       "      <td>concept</td>\n",
       "    </tr>\n",
       "    <tr>\n",
       "      <th>3</th>\n",
       "      <td>192</td>\n",
       "      <td>79</td>\n",
       "      <td>5</td>\n",
       "      <td>solving question</td>\n",
       "    </tr>\n",
       "    <tr>\n",
       "      <th>4</th>\n",
       "      <td>317</td>\n",
       "      <td>156</td>\n",
       "      <td>5</td>\n",
       "      <td>solving question</td>\n",
       "    </tr>\n",
       "    <tr>\n",
       "      <th>5</th>\n",
       "      <td>335</td>\n",
       "      <td>114</td>\n",
       "      <td>2</td>\n",
       "      <td>concept</td>\n",
       "    </tr>\n",
       "    <tr>\n",
       "      <th>6</th>\n",
       "      <td>484</td>\n",
       "      <td>179</td>\n",
       "      <td>5</td>\n",
       "      <td>concept</td>\n",
       "    </tr>\n",
       "    <tr>\n",
       "      <th>7</th>\n",
       "      <td>641</td>\n",
       "      <td>134</td>\n",
       "      <td>6</td>\n",
       "      <td>solving question</td>\n",
       "    </tr>\n",
       "    <tr>\n",
       "      <th>8</th>\n",
       "      <td>761</td>\n",
       "      <td>93</td>\n",
       "      <td>1</td>\n",
       "      <td>concept</td>\n",
       "    </tr>\n",
       "    <tr>\n",
       "      <th>9</th>\n",
       "      <td>814</td>\n",
       "      <td>80</td>\n",
       "      <td>5</td>\n",
       "      <td>solving question</td>\n",
       "    </tr>\n",
       "    <tr>\n",
       "      <th>10</th>\n",
       "      <td>1003</td>\n",
       "      <td>98</td>\n",
       "      <td>7</td>\n",
       "      <td>concept</td>\n",
       "    </tr>\n",
       "    <tr>\n",
       "      <th>11</th>\n",
       "      <td>1077</td>\n",
       "      <td>101</td>\n",
       "      <td>1</td>\n",
       "      <td>solving question</td>\n",
       "    </tr>\n",
       "    <tr>\n",
       "      <th>12</th>\n",
       "      <td>1105</td>\n",
       "      <td>134</td>\n",
       "      <td>5</td>\n",
       "      <td>concept</td>\n",
       "    </tr>\n",
       "    <tr>\n",
       "      <th>13</th>\n",
       "      <td>1144</td>\n",
       "      <td>33</td>\n",
       "      <td>5</td>\n",
       "      <td>concept</td>\n",
       "    </tr>\n",
       "    <tr>\n",
       "      <th>14</th>\n",
       "      <td>1253</td>\n",
       "      <td>74</td>\n",
       "      <td>3</td>\n",
       "      <td>solving question</td>\n",
       "    </tr>\n",
       "    <tr>\n",
       "      <th>15</th>\n",
       "      <td>1308</td>\n",
       "      <td>60</td>\n",
       "      <td>6</td>\n",
       "      <td>concept</td>\n",
       "    </tr>\n",
       "    <tr>\n",
       "      <th>16</th>\n",
       "      <td>1450</td>\n",
       "      <td>101</td>\n",
       "      <td>1</td>\n",
       "      <td>solving question</td>\n",
       "    </tr>\n",
       "    <tr>\n",
       "      <th>17</th>\n",
       "      <td>1501</td>\n",
       "      <td>181</td>\n",
       "      <td>5</td>\n",
       "      <td>concept</td>\n",
       "    </tr>\n",
       "    <tr>\n",
       "      <th>18</th>\n",
       "      <td>1604</td>\n",
       "      <td>43</td>\n",
       "      <td>5</td>\n",
       "      <td>solving question</td>\n",
       "    </tr>\n",
       "    <tr>\n",
       "      <th>19</th>\n",
       "      <td>1731</td>\n",
       "      <td>4</td>\n",
       "      <td>5</td>\n",
       "      <td>concept</td>\n",
       "    </tr>\n",
       "  </tbody>\n",
       "</table>\n",
       "</div>"
      ],
      "text/plain": [
       "    lecture_id  tag  part           type_of\n",
       "0           89  159     5           concept\n",
       "1          100   70     1           concept\n",
       "2          185   45     6           concept\n",
       "3          192   79     5  solving question\n",
       "4          317  156     5  solving question\n",
       "5          335  114     2           concept\n",
       "6          484  179     5           concept\n",
       "7          641  134     6  solving question\n",
       "8          761   93     1           concept\n",
       "9          814   80     5  solving question\n",
       "10        1003   98     7           concept\n",
       "11        1077  101     1  solving question\n",
       "12        1105  134     5           concept\n",
       "13        1144   33     5           concept\n",
       "14        1253   74     3  solving question\n",
       "15        1308   60     6           concept\n",
       "16        1450  101     1  solving question\n",
       "17        1501  181     5           concept\n",
       "18        1604   43     5  solving question\n",
       "19        1731    4     5           concept"
      ]
     },
     "execution_count": 7,
     "metadata": {},
     "output_type": "execute_result"
    }
   ],
   "source": [
    "lectures = pd.read_csv('data/lectures.csv')\n",
    "lectures.head(20)"
   ]
  },
  {
   "cell_type": "code",
   "execution_count": 8,
   "metadata": {},
   "outputs": [
    {
     "name": "stdout",
     "output_type": "stream",
     "text": [
      "<class 'pandas.core.frame.DataFrame'>\n",
      "RangeIndex: 418 entries, 0 to 417\n",
      "Data columns (total 4 columns):\n",
      " #   Column      Non-Null Count  Dtype \n",
      "---  ------      --------------  ----- \n",
      " 0   lecture_id  418 non-null    int64 \n",
      " 1   tag         418 non-null    int64 \n",
      " 2   part        418 non-null    int64 \n",
      " 3   type_of     418 non-null    object\n",
      "dtypes: int64(3), object(1)\n",
      "memory usage: 13.2+ KB\n"
     ]
    }
   ],
   "source": [
    "lectures.info()"
   ]
  },
  {
   "cell_type": "markdown",
   "metadata": {},
   "source": [
    "#### Посмотрим на размерность датасета"
   ]
  },
  {
   "cell_type": "code",
   "execution_count": 9,
   "metadata": {},
   "outputs": [
    {
     "data": {
      "text/plain": [
       "(418, 4)"
      ]
     },
     "execution_count": 9,
     "metadata": {},
     "output_type": "execute_result"
    }
   ],
   "source": [
    "lectures.shape"
   ]
  },
  {
   "cell_type": "markdown",
   "metadata": {},
   "source": [
    "#### Оптимизируем типы данных для уменьшения объема используемой памяти"
   ]
  },
  {
   "cell_type": "code",
   "execution_count": 10,
   "metadata": {},
   "outputs": [
    {
     "name": "stdout",
     "output_type": "stream",
     "text": [
      "<class 'pandas.core.frame.DataFrame'>\n",
      "RangeIndex: 418 entries, 0 to 417\n",
      "Data columns (total 4 columns):\n",
      " #   Column      Non-Null Count  Dtype   \n",
      "---  ------      --------------  -----   \n",
      " 0   lecture_id  418 non-null    int16   \n",
      " 1   tag         418 non-null    int16   \n",
      " 2   part        418 non-null    int8    \n",
      " 3   type_of     418 non-null    category\n",
      "dtypes: category(1), int16(2), int8(1)\n",
      "memory usage: 2.8 KB\n"
     ]
    }
   ],
   "source": [
    "lectures['lecture_id']=lectures['lecture_id'].astype('int16')\n",
    "lectures['tag']=lectures['tag'].astype('int16')\n",
    "lectures['part']=lectures['part'].astype('int8')\n",
    "lectures['type_of']=lectures['type_of'].astype('category')\n",
    "\n",
    "lectures.info()"
   ]
  },
  {
   "cell_type": "markdown",
   "metadata": {},
   "source": [
    "## questions.csv\n",
    "\n",
    "- **question_id:** внешний ключ для столбца train/test content_id, когда тип содержимого - question (0).\n",
    "- **bundle_id:** код, для которого вопросы подаются вместе.\n",
    "- **correct_answer:** ответ на вопрос. Можно сравнить со столбцом train user_answer, чтобы проверить, был ли пользователь прав.\n",
    "- **part:** соответствующий раздел теста TOEIC.\n",
    "- **tags:** один или несколько подробных кодов тегов для вопроса. Значение тегов не будет предоставлено, но этих кодов достаточно для объединения вопросов воедино."
   ]
  },
  {
   "cell_type": "code",
   "execution_count": 11,
   "metadata": {},
   "outputs": [
    {
     "data": {
      "text/html": [
       "<div>\n",
       "<style scoped>\n",
       "    .dataframe tbody tr th:only-of-type {\n",
       "        vertical-align: middle;\n",
       "    }\n",
       "\n",
       "    .dataframe tbody tr th {\n",
       "        vertical-align: top;\n",
       "    }\n",
       "\n",
       "    .dataframe thead th {\n",
       "        text-align: right;\n",
       "    }\n",
       "</style>\n",
       "<table border=\"1\" class=\"dataframe\">\n",
       "  <thead>\n",
       "    <tr style=\"text-align: right;\">\n",
       "      <th></th>\n",
       "      <th>question_id</th>\n",
       "      <th>bundle_id</th>\n",
       "      <th>correct_answer</th>\n",
       "      <th>part</th>\n",
       "      <th>tags</th>\n",
       "    </tr>\n",
       "  </thead>\n",
       "  <tbody>\n",
       "    <tr>\n",
       "      <th>0</th>\n",
       "      <td>0</td>\n",
       "      <td>0</td>\n",
       "      <td>0</td>\n",
       "      <td>1</td>\n",
       "      <td>51 131 162 38</td>\n",
       "    </tr>\n",
       "    <tr>\n",
       "      <th>1</th>\n",
       "      <td>1</td>\n",
       "      <td>1</td>\n",
       "      <td>1</td>\n",
       "      <td>1</td>\n",
       "      <td>131 36 81</td>\n",
       "    </tr>\n",
       "    <tr>\n",
       "      <th>2</th>\n",
       "      <td>2</td>\n",
       "      <td>2</td>\n",
       "      <td>0</td>\n",
       "      <td>1</td>\n",
       "      <td>131 101 162 92</td>\n",
       "    </tr>\n",
       "    <tr>\n",
       "      <th>3</th>\n",
       "      <td>3</td>\n",
       "      <td>3</td>\n",
       "      <td>0</td>\n",
       "      <td>1</td>\n",
       "      <td>131 149 162 29</td>\n",
       "    </tr>\n",
       "    <tr>\n",
       "      <th>4</th>\n",
       "      <td>4</td>\n",
       "      <td>4</td>\n",
       "      <td>3</td>\n",
       "      <td>1</td>\n",
       "      <td>131 5 162 38</td>\n",
       "    </tr>\n",
       "    <tr>\n",
       "      <th>5</th>\n",
       "      <td>5</td>\n",
       "      <td>5</td>\n",
       "      <td>2</td>\n",
       "      <td>1</td>\n",
       "      <td>131 149 162 81</td>\n",
       "    </tr>\n",
       "    <tr>\n",
       "      <th>6</th>\n",
       "      <td>6</td>\n",
       "      <td>6</td>\n",
       "      <td>2</td>\n",
       "      <td>1</td>\n",
       "      <td>10 94 162 92</td>\n",
       "    </tr>\n",
       "    <tr>\n",
       "      <th>7</th>\n",
       "      <td>7</td>\n",
       "      <td>7</td>\n",
       "      <td>0</td>\n",
       "      <td>1</td>\n",
       "      <td>61 110 162 29</td>\n",
       "    </tr>\n",
       "    <tr>\n",
       "      <th>8</th>\n",
       "      <td>8</td>\n",
       "      <td>8</td>\n",
       "      <td>3</td>\n",
       "      <td>1</td>\n",
       "      <td>131 13 162 92</td>\n",
       "    </tr>\n",
       "    <tr>\n",
       "      <th>9</th>\n",
       "      <td>9</td>\n",
       "      <td>9</td>\n",
       "      <td>3</td>\n",
       "      <td>1</td>\n",
       "      <td>10 164 81</td>\n",
       "    </tr>\n",
       "    <tr>\n",
       "      <th>10</th>\n",
       "      <td>10</td>\n",
       "      <td>10</td>\n",
       "      <td>0</td>\n",
       "      <td>1</td>\n",
       "      <td>131 36 38</td>\n",
       "    </tr>\n",
       "    <tr>\n",
       "      <th>11</th>\n",
       "      <td>11</td>\n",
       "      <td>11</td>\n",
       "      <td>3</td>\n",
       "      <td>1</td>\n",
       "      <td>51 131 81</td>\n",
       "    </tr>\n",
       "    <tr>\n",
       "      <th>12</th>\n",
       "      <td>12</td>\n",
       "      <td>12</td>\n",
       "      <td>1</td>\n",
       "      <td>1</td>\n",
       "      <td>51 131 92</td>\n",
       "    </tr>\n",
       "    <tr>\n",
       "      <th>13</th>\n",
       "      <td>13</td>\n",
       "      <td>13</td>\n",
       "      <td>1</td>\n",
       "      <td>1</td>\n",
       "      <td>131 5 29</td>\n",
       "    </tr>\n",
       "    <tr>\n",
       "      <th>14</th>\n",
       "      <td>14</td>\n",
       "      <td>14</td>\n",
       "      <td>2</td>\n",
       "      <td>1</td>\n",
       "      <td>131 101 38</td>\n",
       "    </tr>\n",
       "    <tr>\n",
       "      <th>15</th>\n",
       "      <td>15</td>\n",
       "      <td>15</td>\n",
       "      <td>3</td>\n",
       "      <td>1</td>\n",
       "      <td>61 110 81</td>\n",
       "    </tr>\n",
       "    <tr>\n",
       "      <th>16</th>\n",
       "      <td>16</td>\n",
       "      <td>16</td>\n",
       "      <td>3</td>\n",
       "      <td>1</td>\n",
       "      <td>131 99 92</td>\n",
       "    </tr>\n",
       "    <tr>\n",
       "      <th>17</th>\n",
       "      <td>17</td>\n",
       "      <td>17</td>\n",
       "      <td>0</td>\n",
       "      <td>1</td>\n",
       "      <td>131 93 162 29</td>\n",
       "    </tr>\n",
       "    <tr>\n",
       "      <th>18</th>\n",
       "      <td>18</td>\n",
       "      <td>18</td>\n",
       "      <td>1</td>\n",
       "      <td>1</td>\n",
       "      <td>61 110 92</td>\n",
       "    </tr>\n",
       "    <tr>\n",
       "      <th>19</th>\n",
       "      <td>19</td>\n",
       "      <td>19</td>\n",
       "      <td>0</td>\n",
       "      <td>1</td>\n",
       "      <td>10 70 162 81</td>\n",
       "    </tr>\n",
       "  </tbody>\n",
       "</table>\n",
       "</div>"
      ],
      "text/plain": [
       "    question_id  bundle_id  correct_answer  part            tags\n",
       "0             0          0               0     1   51 131 162 38\n",
       "1             1          1               1     1       131 36 81\n",
       "2             2          2               0     1  131 101 162 92\n",
       "3             3          3               0     1  131 149 162 29\n",
       "4             4          4               3     1    131 5 162 38\n",
       "5             5          5               2     1  131 149 162 81\n",
       "6             6          6               2     1    10 94 162 92\n",
       "7             7          7               0     1   61 110 162 29\n",
       "8             8          8               3     1   131 13 162 92\n",
       "9             9          9               3     1       10 164 81\n",
       "10           10         10               0     1       131 36 38\n",
       "11           11         11               3     1       51 131 81\n",
       "12           12         12               1     1       51 131 92\n",
       "13           13         13               1     1        131 5 29\n",
       "14           14         14               2     1      131 101 38\n",
       "15           15         15               3     1       61 110 81\n",
       "16           16         16               3     1       131 99 92\n",
       "17           17         17               0     1   131 93 162 29\n",
       "18           18         18               1     1       61 110 92\n",
       "19           19         19               0     1    10 70 162 81"
      ]
     },
     "execution_count": 11,
     "metadata": {},
     "output_type": "execute_result"
    }
   ],
   "source": [
    "questions = pd.read_csv('data/questions.csv')\n",
    "questions.head(20)"
   ]
  },
  {
   "cell_type": "code",
   "execution_count": 12,
   "metadata": {},
   "outputs": [
    {
     "name": "stdout",
     "output_type": "stream",
     "text": [
      "<class 'pandas.core.frame.DataFrame'>\n",
      "RangeIndex: 13523 entries, 0 to 13522\n",
      "Data columns (total 5 columns):\n",
      " #   Column          Non-Null Count  Dtype \n",
      "---  ------          --------------  ----- \n",
      " 0   question_id     13523 non-null  int64 \n",
      " 1   bundle_id       13523 non-null  int64 \n",
      " 2   correct_answer  13523 non-null  int64 \n",
      " 3   part            13523 non-null  int64 \n",
      " 4   tags            13522 non-null  object\n",
      "dtypes: int64(4), object(1)\n",
      "memory usage: 528.4+ KB\n"
     ]
    }
   ],
   "source": [
    "questions.info()"
   ]
  },
  {
   "cell_type": "markdown",
   "metadata": {},
   "source": [
    "#### Посмотрим на размерность датасета"
   ]
  },
  {
   "cell_type": "code",
   "execution_count": 13,
   "metadata": {},
   "outputs": [
    {
     "data": {
      "text/plain": [
       "(13523, 5)"
      ]
     },
     "execution_count": 13,
     "metadata": {},
     "output_type": "execute_result"
    }
   ],
   "source": [
    "questions.shape"
   ]
  },
  {
   "cell_type": "markdown",
   "metadata": {},
   "source": [
    "#### Оптимизируем типы данных для уменьшения объема используемой памяти"
   ]
  },
  {
   "cell_type": "code",
   "execution_count": 14,
   "metadata": {},
   "outputs": [
    {
     "name": "stdout",
     "output_type": "stream",
     "text": [
      "<class 'pandas.core.frame.DataFrame'>\n",
      "RangeIndex: 13523 entries, 0 to 13522\n",
      "Data columns (total 5 columns):\n",
      " #   Column          Non-Null Count  Dtype \n",
      "---  ------          --------------  ----- \n",
      " 0   question_id     13523 non-null  int16 \n",
      " 1   bundle_id       13523 non-null  int16 \n",
      " 2   correct_answer  13523 non-null  int8  \n",
      " 3   part            13523 non-null  int8  \n",
      " 4   tags            13522 non-null  object\n",
      "dtypes: int16(2), int8(2), object(1)\n",
      "memory usage: 185.0+ KB\n"
     ]
    }
   ],
   "source": [
    "questions['question_id']=questions['question_id'].astype('int16')\n",
    "questions['bundle_id']=questions['bundle_id'].astype('int16')\n",
    "questions['correct_answer']=questions['correct_answer'].astype('int8')\n",
    "questions['part']=questions['part'].astype('int8')\n",
    "\n",
    "questions.info()"
   ]
  },
  {
   "cell_type": "markdown",
   "metadata": {},
   "source": [
    "#### Посмотрим еще раз на данные"
   ]
  },
  {
   "cell_type": "code",
   "execution_count": 15,
   "metadata": {},
   "outputs": [
    {
     "data": {
      "text/html": [
       "<div>\n",
       "<style scoped>\n",
       "    .dataframe tbody tr th:only-of-type {\n",
       "        vertical-align: middle;\n",
       "    }\n",
       "\n",
       "    .dataframe tbody tr th {\n",
       "        vertical-align: top;\n",
       "    }\n",
       "\n",
       "    .dataframe thead th {\n",
       "        text-align: right;\n",
       "    }\n",
       "</style>\n",
       "<table border=\"1\" class=\"dataframe\">\n",
       "  <thead>\n",
       "    <tr style=\"text-align: right;\">\n",
       "      <th></th>\n",
       "      <th>timestamp</th>\n",
       "      <th>user_id</th>\n",
       "      <th>content_id</th>\n",
       "      <th>content_type_id</th>\n",
       "      <th>task_container_id</th>\n",
       "      <th>user_answer</th>\n",
       "      <th>answered_correctly</th>\n",
       "      <th>prior_question_elapsed_time</th>\n",
       "      <th>prior_question_had_explanation</th>\n",
       "    </tr>\n",
       "    <tr>\n",
       "      <th>row_id</th>\n",
       "      <th></th>\n",
       "      <th></th>\n",
       "      <th></th>\n",
       "      <th></th>\n",
       "      <th></th>\n",
       "      <th></th>\n",
       "      <th></th>\n",
       "      <th></th>\n",
       "      <th></th>\n",
       "    </tr>\n",
       "  </thead>\n",
       "  <tbody>\n",
       "    <tr>\n",
       "      <th>0</th>\n",
       "      <td>0</td>\n",
       "      <td>115</td>\n",
       "      <td>5692</td>\n",
       "      <td>False</td>\n",
       "      <td>1</td>\n",
       "      <td>3</td>\n",
       "      <td>1</td>\n",
       "      <td>NaN</td>\n",
       "      <td>&lt;NA&gt;</td>\n",
       "    </tr>\n",
       "    <tr>\n",
       "      <th>1</th>\n",
       "      <td>56943</td>\n",
       "      <td>115</td>\n",
       "      <td>5716</td>\n",
       "      <td>False</td>\n",
       "      <td>2</td>\n",
       "      <td>2</td>\n",
       "      <td>1</td>\n",
       "      <td>37000.0</td>\n",
       "      <td>False</td>\n",
       "    </tr>\n",
       "    <tr>\n",
       "      <th>2</th>\n",
       "      <td>118363</td>\n",
       "      <td>115</td>\n",
       "      <td>128</td>\n",
       "      <td>False</td>\n",
       "      <td>0</td>\n",
       "      <td>0</td>\n",
       "      <td>1</td>\n",
       "      <td>55000.0</td>\n",
       "      <td>False</td>\n",
       "    </tr>\n",
       "    <tr>\n",
       "      <th>3</th>\n",
       "      <td>131167</td>\n",
       "      <td>115</td>\n",
       "      <td>7860</td>\n",
       "      <td>False</td>\n",
       "      <td>3</td>\n",
       "      <td>0</td>\n",
       "      <td>1</td>\n",
       "      <td>19000.0</td>\n",
       "      <td>False</td>\n",
       "    </tr>\n",
       "    <tr>\n",
       "      <th>4</th>\n",
       "      <td>137965</td>\n",
       "      <td>115</td>\n",
       "      <td>7922</td>\n",
       "      <td>False</td>\n",
       "      <td>4</td>\n",
       "      <td>1</td>\n",
       "      <td>1</td>\n",
       "      <td>11000.0</td>\n",
       "      <td>False</td>\n",
       "    </tr>\n",
       "  </tbody>\n",
       "</table>\n",
       "</div>"
      ],
      "text/plain": [
       "        timestamp  user_id  content_id  content_type_id  task_container_id  \\\n",
       "row_id                                                                       \n",
       "0               0      115        5692            False                  1   \n",
       "1           56943      115        5716            False                  2   \n",
       "2          118363      115         128            False                  0   \n",
       "3          131167      115        7860            False                  3   \n",
       "4          137965      115        7922            False                  4   \n",
       "\n",
       "        user_answer  answered_correctly  prior_question_elapsed_time  \\\n",
       "row_id                                                                 \n",
       "0                 3                   1                          NaN   \n",
       "1                 2                   1                      37000.0   \n",
       "2                 0                   1                      55000.0   \n",
       "3                 0                   1                      19000.0   \n",
       "4                 1                   1                      11000.0   \n",
       "\n",
       "        prior_question_had_explanation  \n",
       "row_id                                  \n",
       "0                                 <NA>  \n",
       "1                                False  \n",
       "2                                False  \n",
       "3                                False  \n",
       "4                                False  "
      ]
     },
     "metadata": {},
     "output_type": "display_data"
    },
    {
     "data": {
      "text/html": [
       "<div>\n",
       "<style scoped>\n",
       "    .dataframe tbody tr th:only-of-type {\n",
       "        vertical-align: middle;\n",
       "    }\n",
       "\n",
       "    .dataframe tbody tr th {\n",
       "        vertical-align: top;\n",
       "    }\n",
       "\n",
       "    .dataframe thead th {\n",
       "        text-align: right;\n",
       "    }\n",
       "</style>\n",
       "<table border=\"1\" class=\"dataframe\">\n",
       "  <thead>\n",
       "    <tr style=\"text-align: right;\">\n",
       "      <th></th>\n",
       "      <th>lecture_id</th>\n",
       "      <th>tag</th>\n",
       "      <th>part</th>\n",
       "      <th>type_of</th>\n",
       "    </tr>\n",
       "  </thead>\n",
       "  <tbody>\n",
       "    <tr>\n",
       "      <th>0</th>\n",
       "      <td>89</td>\n",
       "      <td>159</td>\n",
       "      <td>5</td>\n",
       "      <td>concept</td>\n",
       "    </tr>\n",
       "    <tr>\n",
       "      <th>1</th>\n",
       "      <td>100</td>\n",
       "      <td>70</td>\n",
       "      <td>1</td>\n",
       "      <td>concept</td>\n",
       "    </tr>\n",
       "    <tr>\n",
       "      <th>2</th>\n",
       "      <td>185</td>\n",
       "      <td>45</td>\n",
       "      <td>6</td>\n",
       "      <td>concept</td>\n",
       "    </tr>\n",
       "    <tr>\n",
       "      <th>3</th>\n",
       "      <td>192</td>\n",
       "      <td>79</td>\n",
       "      <td>5</td>\n",
       "      <td>solving question</td>\n",
       "    </tr>\n",
       "    <tr>\n",
       "      <th>4</th>\n",
       "      <td>317</td>\n",
       "      <td>156</td>\n",
       "      <td>5</td>\n",
       "      <td>solving question</td>\n",
       "    </tr>\n",
       "  </tbody>\n",
       "</table>\n",
       "</div>"
      ],
      "text/plain": [
       "   lecture_id  tag  part           type_of\n",
       "0          89  159     5           concept\n",
       "1         100   70     1           concept\n",
       "2         185   45     6           concept\n",
       "3         192   79     5  solving question\n",
       "4         317  156     5  solving question"
      ]
     },
     "metadata": {},
     "output_type": "display_data"
    },
    {
     "data": {
      "text/html": [
       "<div>\n",
       "<style scoped>\n",
       "    .dataframe tbody tr th:only-of-type {\n",
       "        vertical-align: middle;\n",
       "    }\n",
       "\n",
       "    .dataframe tbody tr th {\n",
       "        vertical-align: top;\n",
       "    }\n",
       "\n",
       "    .dataframe thead th {\n",
       "        text-align: right;\n",
       "    }\n",
       "</style>\n",
       "<table border=\"1\" class=\"dataframe\">\n",
       "  <thead>\n",
       "    <tr style=\"text-align: right;\">\n",
       "      <th></th>\n",
       "      <th>question_id</th>\n",
       "      <th>bundle_id</th>\n",
       "      <th>correct_answer</th>\n",
       "      <th>part</th>\n",
       "      <th>tags</th>\n",
       "    </tr>\n",
       "  </thead>\n",
       "  <tbody>\n",
       "    <tr>\n",
       "      <th>0</th>\n",
       "      <td>0</td>\n",
       "      <td>0</td>\n",
       "      <td>0</td>\n",
       "      <td>1</td>\n",
       "      <td>51 131 162 38</td>\n",
       "    </tr>\n",
       "    <tr>\n",
       "      <th>1</th>\n",
       "      <td>1</td>\n",
       "      <td>1</td>\n",
       "      <td>1</td>\n",
       "      <td>1</td>\n",
       "      <td>131 36 81</td>\n",
       "    </tr>\n",
       "    <tr>\n",
       "      <th>2</th>\n",
       "      <td>2</td>\n",
       "      <td>2</td>\n",
       "      <td>0</td>\n",
       "      <td>1</td>\n",
       "      <td>131 101 162 92</td>\n",
       "    </tr>\n",
       "    <tr>\n",
       "      <th>3</th>\n",
       "      <td>3</td>\n",
       "      <td>3</td>\n",
       "      <td>0</td>\n",
       "      <td>1</td>\n",
       "      <td>131 149 162 29</td>\n",
       "    </tr>\n",
       "    <tr>\n",
       "      <th>4</th>\n",
       "      <td>4</td>\n",
       "      <td>4</td>\n",
       "      <td>3</td>\n",
       "      <td>1</td>\n",
       "      <td>131 5 162 38</td>\n",
       "    </tr>\n",
       "  </tbody>\n",
       "</table>\n",
       "</div>"
      ],
      "text/plain": [
       "   question_id  bundle_id  correct_answer  part            tags\n",
       "0            0          0               0     1   51 131 162 38\n",
       "1            1          1               1     1       131 36 81\n",
       "2            2          2               0     1  131 101 162 92\n",
       "3            3          3               0     1  131 149 162 29\n",
       "4            4          4               3     1    131 5 162 38"
      ]
     },
     "metadata": {},
     "output_type": "display_data"
    }
   ],
   "source": [
    "display(train.head(5))\n",
    "display(lectures.head(5))\n",
    "display(questions.head(5))"
   ]
  },
  {
   "cell_type": "markdown",
   "metadata": {},
   "source": [
    "#### Объединим таблицы"
   ]
  },
  {
   "cell_type": "markdown",
   "metadata": {},
   "source": [
    "##### Перед объединением переименуем некоторые столбцы, чтобы не запутаться"
   ]
  },
  {
   "cell_type": "code",
   "execution_count": 16,
   "metadata": {},
   "outputs": [],
   "source": [
    "lectures = lectures.rename(columns={\"tag\":\"lect_tag\",\n",
    "                                          \"part\":\"lect_part\",\n",
    "                                          \"type_of\":\"lect_type_of\"})\n",
    "\n",
    "questions = questions.rename(columns={\"bundle_id\":\"quest_bundle_id\",\n",
    "                                            \"correct_answer\":\"quest_correct_answer\",\n",
    "                                            \"part\":\"quest_part\",\n",
    "                                            \"tags\":\"quest_tags\",})"
   ]
  },
  {
   "cell_type": "code",
   "execution_count": 17,
   "metadata": {},
   "outputs": [
    {
     "data": {
      "text/html": [
       "<div>\n",
       "<style scoped>\n",
       "    .dataframe tbody tr th:only-of-type {\n",
       "        vertical-align: middle;\n",
       "    }\n",
       "\n",
       "    .dataframe tbody tr th {\n",
       "        vertical-align: top;\n",
       "    }\n",
       "\n",
       "    .dataframe thead th {\n",
       "        text-align: right;\n",
       "    }\n",
       "</style>\n",
       "<table border=\"1\" class=\"dataframe\">\n",
       "  <thead>\n",
       "    <tr style=\"text-align: right;\">\n",
       "      <th></th>\n",
       "      <th>timestamp</th>\n",
       "      <th>user_id</th>\n",
       "      <th>content_id</th>\n",
       "      <th>content_type_id</th>\n",
       "      <th>task_container_id</th>\n",
       "      <th>user_answer</th>\n",
       "      <th>answered_correctly</th>\n",
       "      <th>prior_question_elapsed_time</th>\n",
       "      <th>prior_question_had_explanation</th>\n",
       "      <th>lect_tag</th>\n",
       "      <th>lect_part</th>\n",
       "      <th>lect_type_of</th>\n",
       "      <th>quest_bundle_id</th>\n",
       "      <th>quest_correct_answer</th>\n",
       "      <th>quest_part</th>\n",
       "      <th>quest_tags</th>\n",
       "    </tr>\n",
       "  </thead>\n",
       "  <tbody>\n",
       "    <tr>\n",
       "      <th>0</th>\n",
       "      <td>0</td>\n",
       "      <td>115</td>\n",
       "      <td>5692</td>\n",
       "      <td>False</td>\n",
       "      <td>1</td>\n",
       "      <td>3</td>\n",
       "      <td>1</td>\n",
       "      <td>NaN</td>\n",
       "      <td>&lt;NA&gt;</td>\n",
       "      <td>NaN</td>\n",
       "      <td>NaN</td>\n",
       "      <td>NaN</td>\n",
       "      <td>5692.0</td>\n",
       "      <td>3.0</td>\n",
       "      <td>5.0</td>\n",
       "      <td>151</td>\n",
       "    </tr>\n",
       "    <tr>\n",
       "      <th>1</th>\n",
       "      <td>56943</td>\n",
       "      <td>115</td>\n",
       "      <td>5716</td>\n",
       "      <td>False</td>\n",
       "      <td>2</td>\n",
       "      <td>2</td>\n",
       "      <td>1</td>\n",
       "      <td>37000.0</td>\n",
       "      <td>False</td>\n",
       "      <td>NaN</td>\n",
       "      <td>NaN</td>\n",
       "      <td>NaN</td>\n",
       "      <td>5716.0</td>\n",
       "      <td>2.0</td>\n",
       "      <td>5.0</td>\n",
       "      <td>168</td>\n",
       "    </tr>\n",
       "    <tr>\n",
       "      <th>2</th>\n",
       "      <td>118363</td>\n",
       "      <td>115</td>\n",
       "      <td>128</td>\n",
       "      <td>False</td>\n",
       "      <td>0</td>\n",
       "      <td>0</td>\n",
       "      <td>1</td>\n",
       "      <td>55000.0</td>\n",
       "      <td>False</td>\n",
       "      <td>NaN</td>\n",
       "      <td>NaN</td>\n",
       "      <td>NaN</td>\n",
       "      <td>128.0</td>\n",
       "      <td>0.0</td>\n",
       "      <td>1.0</td>\n",
       "      <td>131 149 92</td>\n",
       "    </tr>\n",
       "    <tr>\n",
       "      <th>3</th>\n",
       "      <td>131167</td>\n",
       "      <td>115</td>\n",
       "      <td>7860</td>\n",
       "      <td>False</td>\n",
       "      <td>3</td>\n",
       "      <td>0</td>\n",
       "      <td>1</td>\n",
       "      <td>19000.0</td>\n",
       "      <td>False</td>\n",
       "      <td>NaN</td>\n",
       "      <td>NaN</td>\n",
       "      <td>NaN</td>\n",
       "      <td>7860.0</td>\n",
       "      <td>0.0</td>\n",
       "      <td>1.0</td>\n",
       "      <td>131 104 81</td>\n",
       "    </tr>\n",
       "    <tr>\n",
       "      <th>4</th>\n",
       "      <td>137965</td>\n",
       "      <td>115</td>\n",
       "      <td>7922</td>\n",
       "      <td>False</td>\n",
       "      <td>4</td>\n",
       "      <td>1</td>\n",
       "      <td>1</td>\n",
       "      <td>11000.0</td>\n",
       "      <td>False</td>\n",
       "      <td>NaN</td>\n",
       "      <td>NaN</td>\n",
       "      <td>NaN</td>\n",
       "      <td>7922.0</td>\n",
       "      <td>1.0</td>\n",
       "      <td>1.0</td>\n",
       "      <td>131 149 92</td>\n",
       "    </tr>\n",
       "    <tr>\n",
       "      <th>...</th>\n",
       "      <td>...</td>\n",
       "      <td>...</td>\n",
       "      <td>...</td>\n",
       "      <td>...</td>\n",
       "      <td>...</td>\n",
       "      <td>...</td>\n",
       "      <td>...</td>\n",
       "      <td>...</td>\n",
       "      <td>...</td>\n",
       "      <td>...</td>\n",
       "      <td>...</td>\n",
       "      <td>...</td>\n",
       "      <td>...</td>\n",
       "      <td>...</td>\n",
       "      <td>...</td>\n",
       "      <td>...</td>\n",
       "    </tr>\n",
       "    <tr>\n",
       "      <th>499994</th>\n",
       "      <td>1440368676</td>\n",
       "      <td>9678259</td>\n",
       "      <td>5197</td>\n",
       "      <td>False</td>\n",
       "      <td>565</td>\n",
       "      <td>0</td>\n",
       "      <td>1</td>\n",
       "      <td>15000.0</td>\n",
       "      <td>True</td>\n",
       "      <td>NaN</td>\n",
       "      <td>NaN</td>\n",
       "      <td>NaN</td>\n",
       "      <td>5197.0</td>\n",
       "      <td>0.0</td>\n",
       "      <td>5.0</td>\n",
       "      <td>33</td>\n",
       "    </tr>\n",
       "    <tr>\n",
       "      <th>499995</th>\n",
       "      <td>1440420636</td>\n",
       "      <td>9678259</td>\n",
       "      <td>3636</td>\n",
       "      <td>False</td>\n",
       "      <td>566</td>\n",
       "      <td>1</td>\n",
       "      <td>1</td>\n",
       "      <td>23000.0</td>\n",
       "      <td>True</td>\n",
       "      <td>NaN</td>\n",
       "      <td>NaN</td>\n",
       "      <td>NaN</td>\n",
       "      <td>3636.0</td>\n",
       "      <td>1.0</td>\n",
       "      <td>5.0</td>\n",
       "      <td>132</td>\n",
       "    </tr>\n",
       "    <tr>\n",
       "      <th>499996</th>\n",
       "      <td>1440538419</td>\n",
       "      <td>9678259</td>\n",
       "      <td>9399</td>\n",
       "      <td>False</td>\n",
       "      <td>567</td>\n",
       "      <td>3</td>\n",
       "      <td>0</td>\n",
       "      <td>43000.0</td>\n",
       "      <td>True</td>\n",
       "      <td>NaN</td>\n",
       "      <td>NaN</td>\n",
       "      <td>NaN</td>\n",
       "      <td>9399.0</td>\n",
       "      <td>1.0</td>\n",
       "      <td>5.0</td>\n",
       "      <td>133</td>\n",
       "    </tr>\n",
       "    <tr>\n",
       "      <th>499997</th>\n",
       "      <td>1782479847</td>\n",
       "      <td>9678259</td>\n",
       "      <td>5501</td>\n",
       "      <td>False</td>\n",
       "      <td>568</td>\n",
       "      <td>1</td>\n",
       "      <td>1</td>\n",
       "      <td>108000.0</td>\n",
       "      <td>True</td>\n",
       "      <td>NaN</td>\n",
       "      <td>NaN</td>\n",
       "      <td>NaN</td>\n",
       "      <td>5501.0</td>\n",
       "      <td>1.0</td>\n",
       "      <td>5.0</td>\n",
       "      <td>89</td>\n",
       "    </tr>\n",
       "    <tr>\n",
       "      <th>499998</th>\n",
       "      <td>1782502151</td>\n",
       "      <td>9678259</td>\n",
       "      <td>4432</td>\n",
       "      <td>False</td>\n",
       "      <td>569</td>\n",
       "      <td>0</td>\n",
       "      <td>1</td>\n",
       "      <td>12000.0</td>\n",
       "      <td>True</td>\n",
       "      <td>NaN</td>\n",
       "      <td>NaN</td>\n",
       "      <td>NaN</td>\n",
       "      <td>4432.0</td>\n",
       "      <td>0.0</td>\n",
       "      <td>5.0</td>\n",
       "      <td>28</td>\n",
       "    </tr>\n",
       "  </tbody>\n",
       "</table>\n",
       "<p>499999 rows × 16 columns</p>\n",
       "</div>"
      ],
      "text/plain": [
       "         timestamp  user_id  content_id  content_type_id  task_container_id  \\\n",
       "0                0      115        5692            False                  1   \n",
       "1            56943      115        5716            False                  2   \n",
       "2           118363      115         128            False                  0   \n",
       "3           131167      115        7860            False                  3   \n",
       "4           137965      115        7922            False                  4   \n",
       "...            ...      ...         ...              ...                ...   \n",
       "499994  1440368676  9678259        5197            False                565   \n",
       "499995  1440420636  9678259        3636            False                566   \n",
       "499996  1440538419  9678259        9399            False                567   \n",
       "499997  1782479847  9678259        5501            False                568   \n",
       "499998  1782502151  9678259        4432            False                569   \n",
       "\n",
       "        user_answer  answered_correctly  prior_question_elapsed_time  \\\n",
       "0                 3                   1                          NaN   \n",
       "1                 2                   1                      37000.0   \n",
       "2                 0                   1                      55000.0   \n",
       "3                 0                   1                      19000.0   \n",
       "4                 1                   1                      11000.0   \n",
       "...             ...                 ...                          ...   \n",
       "499994            0                   1                      15000.0   \n",
       "499995            1                   1                      23000.0   \n",
       "499996            3                   0                      43000.0   \n",
       "499997            1                   1                     108000.0   \n",
       "499998            0                   1                      12000.0   \n",
       "\n",
       "        prior_question_had_explanation  lect_tag  lect_part lect_type_of  \\\n",
       "0                                 <NA>       NaN        NaN          NaN   \n",
       "1                                False       NaN        NaN          NaN   \n",
       "2                                False       NaN        NaN          NaN   \n",
       "3                                False       NaN        NaN          NaN   \n",
       "4                                False       NaN        NaN          NaN   \n",
       "...                                ...       ...        ...          ...   \n",
       "499994                            True       NaN        NaN          NaN   \n",
       "499995                            True       NaN        NaN          NaN   \n",
       "499996                            True       NaN        NaN          NaN   \n",
       "499997                            True       NaN        NaN          NaN   \n",
       "499998                            True       NaN        NaN          NaN   \n",
       "\n",
       "        quest_bundle_id  quest_correct_answer  quest_part  quest_tags  \n",
       "0                5692.0                   3.0         5.0         151  \n",
       "1                5716.0                   2.0         5.0         168  \n",
       "2                 128.0                   0.0         1.0  131 149 92  \n",
       "3                7860.0                   0.0         1.0  131 104 81  \n",
       "4                7922.0                   1.0         1.0  131 149 92  \n",
       "...                 ...                   ...         ...         ...  \n",
       "499994           5197.0                   0.0         5.0          33  \n",
       "499995           3636.0                   1.0         5.0         132  \n",
       "499996           9399.0                   1.0         5.0         133  \n",
       "499997           5501.0                   1.0         5.0          89  \n",
       "499998           4432.0                   0.0         5.0          28  \n",
       "\n",
       "[499999 rows x 16 columns]"
      ]
     },
     "execution_count": 17,
     "metadata": {},
     "output_type": "execute_result"
    }
   ],
   "source": [
    "merged_df = (train.merge(lectures, how='left', left_on='content_id', right_on='lecture_id')).merge(questions, how='left', left_on='content_id', right_on='question_id')\n",
    "\n",
    "merged_df.drop('lecture_id', axis=1, inplace=True)\n",
    "merged_df.drop('question_id', axis=1, inplace=True)\n",
    "\n",
    "merged_df"
   ]
  },
  {
   "cell_type": "markdown",
   "metadata": {},
   "source": [
    "#### Проверим пустые ячейки"
   ]
  },
  {
   "cell_type": "code",
   "execution_count": 18,
   "metadata": {},
   "outputs": [
    {
     "data": {
      "text/plain": [
       "timestamp                              0\n",
       "user_id                                0\n",
       "content_id                             0\n",
       "content_type_id                        0\n",
       "task_container_id                      0\n",
       "user_answer                            0\n",
       "answered_correctly                     0\n",
       "prior_question_elapsed_time        11627\n",
       "prior_question_had_explanation      1746\n",
       "lect_tag                          483702\n",
       "lect_part                         483702\n",
       "lect_type_of                      483702\n",
       "quest_bundle_id                     6087\n",
       "quest_correct_answer                6087\n",
       "quest_part                          6087\n",
       "quest_tags                          6087\n",
       "dtype: int64"
      ]
     },
     "execution_count": 18,
     "metadata": {},
     "output_type": "execute_result"
    }
   ],
   "source": [
    "merged_df.isnull().sum()"
   ]
  },
  {
   "cell_type": "markdown",
   "metadata": {},
   "source": [
    "#### Посмотрим на соотношение типов контента"
   ]
  },
  {
   "cell_type": "code",
   "execution_count": 19,
   "metadata": {},
   "outputs": [
    {
     "data": {
      "text/plain": [
       "False    98.023796\n",
       "True      1.976204\n",
       "Name: content_type_id, dtype: Float64"
      ]
     },
     "execution_count": 19,
     "metadata": {},
     "output_type": "execute_result"
    }
   ],
   "source": [
    "merged_df.content_type_id.value_counts(normalize=True) * 100\n",
    "\n",
    "# Более 98% записей являются ответом на вопрос. Просмотр лекции - меннее 2%."
   ]
  },
  {
   "cell_type": "markdown",
   "metadata": {},
   "source": [
    "#### Соотношения правильных ответов на вопрос"
   ]
  },
  {
   "cell_type": "code",
   "execution_count": 20,
   "metadata": {},
   "outputs": [
    {
     "name": "stdout",
     "output_type": "stream",
     "text": [
      "Из всех ответов на вопрос: 65.63% правильных и 34.37% неправильных\n"
     ]
    }
   ],
   "source": [
    "answ_corr_value_counts = merged_df.answered_correctly.value_counts()\n",
    "r_asw_pers = round(answ_corr_value_counts[1] / (answ_corr_value_counts[1] + answ_corr_value_counts[0]) * 100, 2)\n",
    "\n",
    "print(f'Из всех ответов на вопрос: {round(r_asw_pers, 2)}% правильных и {round(100-r_asw_pers, 2)}% неправильных')"
   ]
  },
  {
   "cell_type": "markdown",
   "metadata": {},
   "source": [
    "#### Исследуем кол-во уникальных значений для разных колонок"
   ]
  },
  {
   "cell_type": "code",
   "execution_count": 21,
   "metadata": {},
   "outputs": [
    {
     "data": {
      "text/html": [
       "<div>\n",
       "<style scoped>\n",
       "    .dataframe tbody tr th:only-of-type {\n",
       "        vertical-align: middle;\n",
       "    }\n",
       "\n",
       "    .dataframe tbody tr th {\n",
       "        vertical-align: top;\n",
       "    }\n",
       "\n",
       "    .dataframe thead th {\n",
       "        text-align: right;\n",
       "    }\n",
       "</style>\n",
       "<table border=\"1\" class=\"dataframe\">\n",
       "  <thead>\n",
       "    <tr style=\"text-align: right;\">\n",
       "      <th></th>\n",
       "      <th>0</th>\n",
       "    </tr>\n",
       "  </thead>\n",
       "  <tbody>\n",
       "    <tr>\n",
       "      <th>timestamp</th>\n",
       "      <td>385220</td>\n",
       "    </tr>\n",
       "    <tr>\n",
       "      <th>user_id</th>\n",
       "      <td>1749</td>\n",
       "    </tr>\n",
       "    <tr>\n",
       "      <th>content_id</th>\n",
       "      <td>13120</td>\n",
       "    </tr>\n",
       "    <tr>\n",
       "      <th>content_type_id</th>\n",
       "      <td>2</td>\n",
       "    </tr>\n",
       "    <tr>\n",
       "      <th>task_container_id</th>\n",
       "      <td>7740</td>\n",
       "    </tr>\n",
       "    <tr>\n",
       "      <th>user_answer</th>\n",
       "      <td>5</td>\n",
       "    </tr>\n",
       "    <tr>\n",
       "      <th>answered_correctly</th>\n",
       "      <td>3</td>\n",
       "    </tr>\n",
       "    <tr>\n",
       "      <th>prior_question_elapsed_time</th>\n",
       "      <td>1384</td>\n",
       "    </tr>\n",
       "    <tr>\n",
       "      <th>prior_question_had_explanation</th>\n",
       "      <td>2</td>\n",
       "    </tr>\n",
       "    <tr>\n",
       "      <th>lect_tag</th>\n",
       "      <td>149</td>\n",
       "    </tr>\n",
       "    <tr>\n",
       "      <th>lect_part</th>\n",
       "      <td>7</td>\n",
       "    </tr>\n",
       "    <tr>\n",
       "      <th>lect_type_of</th>\n",
       "      <td>4</td>\n",
       "    </tr>\n",
       "    <tr>\n",
       "      <th>quest_bundle_id</th>\n",
       "      <td>9422</td>\n",
       "    </tr>\n",
       "    <tr>\n",
       "      <th>quest_correct_answer</th>\n",
       "      <td>4</td>\n",
       "    </tr>\n",
       "    <tr>\n",
       "      <th>quest_part</th>\n",
       "      <td>7</td>\n",
       "    </tr>\n",
       "    <tr>\n",
       "      <th>quest_tags</th>\n",
       "      <td>1484</td>\n",
       "    </tr>\n",
       "  </tbody>\n",
       "</table>\n",
       "</div>"
      ],
      "text/plain": [
       "                                     0\n",
       "timestamp                       385220\n",
       "user_id                           1749\n",
       "content_id                       13120\n",
       "content_type_id                      2\n",
       "task_container_id                 7740\n",
       "user_answer                          5\n",
       "answered_correctly                   3\n",
       "prior_question_elapsed_time       1384\n",
       "prior_question_had_explanation       2\n",
       "lect_tag                           149\n",
       "lect_part                            7\n",
       "lect_type_of                         4\n",
       "quest_bundle_id                   9422\n",
       "quest_correct_answer                 4\n",
       "quest_part                           7\n",
       "quest_tags                        1484"
      ]
     },
     "execution_count": 21,
     "metadata": {},
     "output_type": "execute_result"
    }
   ],
   "source": [
    "pd.DataFrame(merged_df.nunique())"
   ]
  },
  {
   "cell_type": "markdown",
   "metadata": {},
   "source": [
    "#### Посмотрим сколько у нас уникальных пользователей"
   ]
  },
  {
   "cell_type": "code",
   "execution_count": 22,
   "metadata": {},
   "outputs": [
    {
     "name": "stdout",
     "output_type": "stream",
     "text": [
      "Мы имеем 1749 уникальных пользователей в нашем датасете\n"
     ]
    }
   ],
   "source": [
    "print(f'Мы имеем {merged_df[\"user_id\"].nunique()} уникальных пользователей в нашем датасете')"
   ]
  },
  {
   "cell_type": "markdown",
   "metadata": {},
   "source": [
    "#### Content_type_id = False означает, что был задан вопрос. True означает, что пользователь смотрел лекцию."
   ]
  },
  {
   "cell_type": "code",
   "execution_count": 23,
   "metadata": {},
   "outputs": [
    {
     "data": {
      "text/plain": [
       "False    490118\n",
       "True       9881\n",
       "Name: content_type_id, dtype: Int64"
      ]
     },
     "execution_count": 23,
     "metadata": {},
     "output_type": "execute_result"
    }
   ],
   "source": [
    "merged_df.content_type_id.value_counts()"
   ]
  },
  {
   "cell_type": "markdown",
   "metadata": {},
   "source": [
    "#### Посмотрим на 30 наиболее часто используемых идентификаторов контента"
   ]
  },
  {
   "cell_type": "code",
   "execution_count": 24,
   "metadata": {},
   "outputs": [
    {
     "data": {
      "image/png": "[encoded data removed]",
      "text/plain": [
       "<Figure size 1200x600 with 1 Axes>"
      ]
     },
     "metadata": {},
     "output_type": "display_data"
    }
   ],
   "source": [
    "cids = merged_df['content_id'].value_counts()[:30]\n",
    "\n",
    "fig = plt.figure(figsize=(12,6))\n",
    "ax = cids.plot.bar()\n",
    "plt.title(\"Тридцать наиболее часто используемых идентификаторов контента\")\n",
    "plt.xticks(rotation=90)\n",
    "ax.get_yaxis().set_major_formatter(FuncFormatter(lambda x, p: format(int(x), ',')))"
   ]
  },
  {
   "cell_type": "markdown",
   "metadata": {},
   "source": [
    "#### task_container_id: (int16) Идентификационный код для пакета вопросов или лекций. Например, пользователь может увидеть три вопроса подряд, прежде чем увидит пояснения к любому из них. Все эти три будут иметь общий идентификатор task_container_id."
   ]
  },
  {
   "cell_type": "code",
   "execution_count": 25,
   "metadata": {},
   "outputs": [
    {
     "name": "stdout",
     "output_type": "stream",
     "text": [
      "У нас есть 7740 уникальных наборов вопросов или лекций.\n"
     ]
    }
   ],
   "source": [
    "print(f'У нас есть {merged_df[\"task_container_id\"].nunique()} уникальных наборов вопросов или лекций.')"
   ]
  },
  {
   "cell_type": "markdown",
   "metadata": {},
   "source": [
    "#### Посмотрим на ответы пользователей"
   ]
  },
  {
   "cell_type": "code",
   "execution_count": 26,
   "metadata": {},
   "outputs": [
    {
     "data": {
      "text/plain": [
       " 0    138223\n",
       " 1    133683\n",
       " 3    129029\n",
       " 2     89183\n",
       "-1      9881\n",
       "Name: user_answer, dtype: int64"
      ]
     },
     "execution_count": 26,
     "metadata": {},
     "output_type": "execute_result"
    }
   ],
   "source": [
    "merged_df[\"user_answer\"].value_counts()"
   ]
  },
  {
   "cell_type": "markdown",
   "metadata": {},
   "source": [
    "#### timestamp: время в миллисекундах между этим пользовательским взаимодействием и первым завершением события от этого пользователя. Как мы видим, большинство взаимодействий происходит от пользователей, которые еще не очень долго были активны на платформе."
   ]
  },
  {
   "cell_type": "code",
   "execution_count": 27,
   "metadata": {},
   "outputs": [
    {
     "data": {
      "image/png": "[encoded data removed]",
      "text/plain": [
       "<Figure size 1200x600 with 1 Axes>"
      ]
     },
     "metadata": {},
     "output_type": "display_data"
    }
   ],
   "source": [
    "#1 year = 31536000000 ms\n",
    "ts = merged_df['timestamp']/(31536000000/12)\n",
    "fig = plt.figure(figsize=(12,6))\n",
    "ts.plot.hist(bins=100)\n",
    "plt.title(\"Гистограмма timestamp\")\n",
    "plt.xticks(rotation=0)\n",
    "plt.xlabel(\"Месяцы между этим взаимодействием с пользователем и завершением первого события от этого пользователя\")\n",
    "plt.ylabel(\"Частота\")\n",
    "plt.show()"
   ]
  },
  {
   "cell_type": "markdown",
   "metadata": {},
   "source": [
    "#### Посмотрим сколько надо правильных ответов на вопросы"
   ]
  },
  {
   "cell_type": "code",
   "execution_count": 28,
   "metadata": {},
   "outputs": [
    {
     "data": {
      "image/png": "[encoded data removed]",
      "text/plain": [
       "<Figure size 1200x400 with 1 Axes>"
      ]
     },
     "metadata": {},
     "output_type": "display_data"
    }
   ],
   "source": [
    "correct = merged_df[merged_df.answered_correctly != -1].answered_correctly.value_counts(ascending=True)\n",
    "fig = plt.figure(figsize=(12,4))\n",
    "correct.plot.barh()\n",
    "for i, v in zip(correct.index, correct.values):\n",
    "    plt.text(v, i, '{:,}'.format(v), color='white', fontweight='bold', fontsize=14, ha='right', va='center')\n",
    "plt.title(\"На вопросы даны правильные ответы\")\n",
    "plt.xticks(rotation=0)\n",
    "plt.show()"
   ]
  },
  {
   "cell_type": "markdown",
   "metadata": {},
   "source": [
    "#### Проверим есть ли связь между timestamp и answered_correctly. Чтобы выяснить это, я сделал 10 ячеек с отметкой времени. Было замечено, что пользователи, которые зарегистрировались относительно недавно, работают немного хуже, чем пользователи, которые активны дольше."
   ]
  },
  {
   "cell_type": "code",
   "execution_count": 29,
   "metadata": {},
   "outputs": [
    {
     "data": {
      "image/png": "[encoded data removed]",
      "text/plain": [
       "<Figure size 1200x600 with 1 Axes>"
      ]
     },
     "metadata": {},
     "output_type": "display_data"
    }
   ],
   "source": [
    "bin_labels_10 = ['Ячейка_1', 'Ячейка_2', 'Ячейка_3', 'Ячейка_4', 'Ячейка_5', 'Ячейка_6', 'Ячейка_7', 'Ячейка_8', 'Ячейка_9', 'Ячейка_10']\n",
    "merged_df['ts_bin'] = pd.qcut(merged_df['timestamp'], q=10, labels=bin_labels_10)\n",
    "\n",
    "#make function that can also be used for other fields\n",
    "def correct(field):\n",
    "    correct = merged_df[merged_df.answered_correctly != -1].groupby([field, 'answered_correctly'], as_index=False).size()\n",
    "    correct = correct.pivot(index= field, columns='answered_correctly', values='size')\n",
    "    correct['Percent_correct'] = round(correct.iloc[:,1]/(correct.iloc[:,0] + correct.iloc[:,1]),2)\n",
    "    correct = correct.sort_values(by = \"Percent_correct\", ascending = False)\n",
    "    correct = correct.iloc[:,2]\n",
    "    return(correct)\n",
    "\n",
    "bins_correct = correct(\"ts_bin\")\n",
    "bins_correct = bins_correct.sort_index()\n",
    "\n",
    "fig = plt.figure(figsize=(12,6))\n",
    "plt.bar(bins_correct.index, bins_correct.values)\n",
    "for i, v in zip(bins_correct.index, bins_correct.values):\n",
    "    plt.text(i, v, v, color='white', fontweight='bold', fontsize=14, va='top', ha='center')\n",
    "plt.title(\"Процент правильных ответов для 10 ячеек timestamp\")\n",
    "plt.xticks(rotation=0)\n",
    "plt.show()"
   ]
  },
  {
   "cell_type": "markdown",
   "metadata": {},
   "source": [
    "#### Давайте также проверим, как выглядит распределение answered_correctly, если мы сгруппируем по уникальным идентификаторам task_container_id."
   ]
  },
  {
   "cell_type": "code",
   "execution_count": 30,
   "metadata": {},
   "outputs": [
    {
     "data": {
      "image/png": "[encoded data removed]",
      "text/plain": [
       "<Figure size 1200x600 with 1 Axes>"
      ]
     },
     "metadata": {},
     "output_type": "display_data"
    }
   ],
   "source": [
    "task_id_correct = correct(\"task_container_id\")\n",
    "\n",
    "fig = plt.figure(figsize=(12,6))\n",
    "task_id_correct.plot.hist(bins=40)\n",
    "plt.title(\"Гистограмма percent_correct, сгруппированная по task_container_id\")\n",
    "plt.xticks(rotation=0)\n",
    "plt.ylabel(\"Частота\")\n",
    "plt.show()"
   ]
  },
  {
   "cell_type": "markdown",
   "metadata": {},
   "source": [
    "#### \"Тепловая\" карта зависимостей параметров"
   ]
  },
  {
   "cell_type": "code",
   "execution_count": 31,
   "metadata": {},
   "outputs": [
    {
     "name": "stdout",
     "output_type": "stream",
     "text": [
      "                   timestamp  content_id  task_container_id  user_answer\n",
      "timestamp           1.000000    0.027154           0.333749    -0.001144\n",
      "content_id          0.027154    1.000000           0.065077    -0.109310\n",
      "task_container_id   0.333749    0.065077           1.000000     0.017830\n",
      "user_answer        -0.001144   -0.109310           0.017830     1.000000\n"
     ]
    },
    {
     "data": {
      "text/plain": [
       "<AxesSubplot:>"
      ]
     },
     "execution_count": 31,
     "metadata": {},
     "output_type": "execute_result"
    },
    {
     "data": {
      "image/png": "[encoded data removed]",
      "text/plain": [
       "<Figure size 640x480 with 2 Axes>"
      ]
     },
     "metadata": {},
     "output_type": "display_data"
    }
   ],
   "source": [
    "corr_columns = ['timestamp', 'content_id', 'task_container_id', 'user_answer']\n",
    "corr_matrix = merged_df.loc[:,corr_columns].corr()\n",
    "print(corr_matrix)\n",
    "\n",
    "\n",
    "sns.heatmap(corr_matrix, annot=True)"
   ]
  },
  {
   "cell_type": "markdown",
   "metadata": {},
   "source": [
    "#### Посмотрим на количество ответов пользователя, который ответил на наибольшее количество вопросов"
   ]
  },
  {
   "cell_type": "code",
   "execution_count": 32,
   "metadata": {},
   "outputs": [
    {
     "name": "stdout",
     "output_type": "stream",
     "text": [
      "Наибольшее количество вопросов, на которые ответил пользователь 7171715, составляет 10797\n"
     ]
    }
   ],
   "source": [
    "user_percent = merged_df[merged_df.answered_correctly != -1].groupby('user_id')['answered_correctly'].agg(Mean='mean', Answers='count')\n",
    "print(f\"Наибольшее количество вопросов, на которые ответил пользователь {user_percent[user_percent['Answers'] == user_percent.Answers.max()].index[0]}, составляет {user_percent.Answers.max()}\")"
   ]
  },
  {
   "cell_type": "markdown",
   "metadata": {},
   "source": [
    "#### Посмотрим на % правильных ответов по сравнению с количеством вопросов, на которые ответил пользователь"
   ]
  },
  {
   "cell_type": "code",
   "execution_count": 33,
   "metadata": {},
   "outputs": [
    {
     "data": {
      "image/png": "[encoded data removed]",
      "text/plain": [
       "<Figure size 1200x600 with 1 Axes>"
      ]
     },
     "metadata": {},
     "output_type": "display_data"
    }
   ],
   "source": [
    "user_percent = user_percent.query('Answers <= 1000').sample(n=200, random_state=1)\n",
    "\n",
    "fig = plt.figure(figsize=(12,6))\n",
    "x = user_percent.Answers\n",
    "y = user_percent.Mean\n",
    "plt.scatter(x, y, marker='o')\n",
    "plt.title(\"Процент правильных ответов по сравнению с количеством вопросов, на которые ответил пользователь\")\n",
    "plt.xticks(rotation=0)\n",
    "plt.xlabel(\"Количество ответов на вопросы\")\n",
    "plt.ylabel(\"Процент правильно ответивших\")\n",
    "z = np.polyfit(x, y, 1)\n",
    "p = np.poly1d(z)\n",
    "plt.plot(x,p(x),\"r--\")\n",
    "\n",
    "plt.show()"
   ]
  },
  {
   "cell_type": "markdown",
   "metadata": {},
   "source": [
    "#### Посмотрим сколько у нас различных тэгов"
   ]
  },
  {
   "cell_type": "code",
   "execution_count": 34,
   "metadata": {},
   "outputs": [
    {
     "name": "stdout",
     "output_type": "stream",
     "text": [
      "Мы имеем 188 различных тэгов\n"
     ]
    }
   ],
   "source": [
    "merged_df['quest_tags'] = merged_df['quest_tags'].astype(str)\n",
    "\n",
    "tags = [x.split() for x in merged_df[merged_df.quest_tags != \"nan\"].quest_tags.values]\n",
    "tags = [item for elem in tags for item in elem]\n",
    "tags = set(tags)\n",
    "tags = list(tags)\n",
    "print(f'Мы имеем {len(tags)} различных тэгов')"
   ]
  },
  {
   "cell_type": "markdown",
   "metadata": {},
   "source": [
    "#### Посмотрим сколько ответов было правильными и неправильными для каждого вопроса"
   ]
  },
  {
   "cell_type": "code",
   "execution_count": 35,
   "metadata": {},
   "outputs": [
    {
     "data": {
      "text/html": [
       "<div>\n",
       "<style scoped>\n",
       "    .dataframe tbody tr th:only-of-type {\n",
       "        vertical-align: middle;\n",
       "    }\n",
       "\n",
       "    .dataframe tbody tr th {\n",
       "        vertical-align: top;\n",
       "    }\n",
       "\n",
       "    .dataframe thead th {\n",
       "        text-align: right;\n",
       "    }\n",
       "</style>\n",
       "<table border=\"1\" class=\"dataframe\">\n",
       "  <thead>\n",
       "    <tr style=\"text-align: right;\">\n",
       "      <th></th>\n",
       "      <th>timestamp</th>\n",
       "      <th>user_id</th>\n",
       "      <th>content_id</th>\n",
       "      <th>content_type_id</th>\n",
       "      <th>task_container_id</th>\n",
       "      <th>user_answer</th>\n",
       "      <th>answered_correctly</th>\n",
       "      <th>prior_question_elapsed_time</th>\n",
       "      <th>prior_question_had_explanation</th>\n",
       "      <th>lect_tag</th>\n",
       "      <th>lect_part</th>\n",
       "      <th>lect_type_of</th>\n",
       "      <th>quest_bundle_id</th>\n",
       "      <th>quest_correct_answer</th>\n",
       "      <th>quest_part</th>\n",
       "      <th>quest_tags</th>\n",
       "      <th>ts_bin</th>\n",
       "      <th>Wrong</th>\n",
       "      <th>Right</th>\n",
       "    </tr>\n",
       "  </thead>\n",
       "  <tbody>\n",
       "    <tr>\n",
       "      <th>0</th>\n",
       "      <td>0</td>\n",
       "      <td>115</td>\n",
       "      <td>5692</td>\n",
       "      <td>False</td>\n",
       "      <td>1</td>\n",
       "      <td>3</td>\n",
       "      <td>1</td>\n",
       "      <td>NaN</td>\n",
       "      <td>&lt;NA&gt;</td>\n",
       "      <td>NaN</td>\n",
       "      <td>NaN</td>\n",
       "      <td>NaN</td>\n",
       "      <td>5692.0</td>\n",
       "      <td>3.0</td>\n",
       "      <td>5.0</td>\n",
       "      <td>[151]</td>\n",
       "      <td>Ячейка_1</td>\n",
       "      <td>56.0</td>\n",
       "      <td>122.0</td>\n",
       "    </tr>\n",
       "    <tr>\n",
       "      <th>1</th>\n",
       "      <td>56943</td>\n",
       "      <td>115</td>\n",
       "      <td>5716</td>\n",
       "      <td>False</td>\n",
       "      <td>2</td>\n",
       "      <td>2</td>\n",
       "      <td>1</td>\n",
       "      <td>37000.0</td>\n",
       "      <td>False</td>\n",
       "      <td>NaN</td>\n",
       "      <td>NaN</td>\n",
       "      <td>NaN</td>\n",
       "      <td>5716.0</td>\n",
       "      <td>2.0</td>\n",
       "      <td>5.0</td>\n",
       "      <td>[168]</td>\n",
       "      <td>Ячейка_1</td>\n",
       "      <td>24.0</td>\n",
       "      <td>87.0</td>\n",
       "    </tr>\n",
       "    <tr>\n",
       "      <th>2</th>\n",
       "      <td>118363</td>\n",
       "      <td>115</td>\n",
       "      <td>128</td>\n",
       "      <td>False</td>\n",
       "      <td>0</td>\n",
       "      <td>0</td>\n",
       "      <td>1</td>\n",
       "      <td>55000.0</td>\n",
       "      <td>False</td>\n",
       "      <td>NaN</td>\n",
       "      <td>NaN</td>\n",
       "      <td>NaN</td>\n",
       "      <td>128.0</td>\n",
       "      <td>0.0</td>\n",
       "      <td>1.0</td>\n",
       "      <td>[131, 149, 92]</td>\n",
       "      <td>Ячейка_1</td>\n",
       "      <td>3.0</td>\n",
       "      <td>86.0</td>\n",
       "    </tr>\n",
       "    <tr>\n",
       "      <th>3</th>\n",
       "      <td>131167</td>\n",
       "      <td>115</td>\n",
       "      <td>7860</td>\n",
       "      <td>False</td>\n",
       "      <td>3</td>\n",
       "      <td>0</td>\n",
       "      <td>1</td>\n",
       "      <td>19000.0</td>\n",
       "      <td>False</td>\n",
       "      <td>NaN</td>\n",
       "      <td>NaN</td>\n",
       "      <td>NaN</td>\n",
       "      <td>7860.0</td>\n",
       "      <td>0.0</td>\n",
       "      <td>1.0</td>\n",
       "      <td>[131, 104, 81]</td>\n",
       "      <td>Ячейка_1</td>\n",
       "      <td>4.0</td>\n",
       "      <td>92.0</td>\n",
       "    </tr>\n",
       "    <tr>\n",
       "      <th>4</th>\n",
       "      <td>137965</td>\n",
       "      <td>115</td>\n",
       "      <td>7922</td>\n",
       "      <td>False</td>\n",
       "      <td>4</td>\n",
       "      <td>1</td>\n",
       "      <td>1</td>\n",
       "      <td>11000.0</td>\n",
       "      <td>False</td>\n",
       "      <td>NaN</td>\n",
       "      <td>NaN</td>\n",
       "      <td>NaN</td>\n",
       "      <td>7922.0</td>\n",
       "      <td>1.0</td>\n",
       "      <td>1.0</td>\n",
       "      <td>[131, 149, 92]</td>\n",
       "      <td>Ячейка_1</td>\n",
       "      <td>5.0</td>\n",
       "      <td>75.0</td>\n",
       "    </tr>\n",
       "  </tbody>\n",
       "</table>\n",
       "</div>"
      ],
      "text/plain": [
       "   timestamp  user_id  content_id  content_type_id  task_container_id  \\\n",
       "0          0      115        5692            False                  1   \n",
       "1      56943      115        5716            False                  2   \n",
       "2     118363      115         128            False                  0   \n",
       "3     131167      115        7860            False                  3   \n",
       "4     137965      115        7922            False                  4   \n",
       "\n",
       "   user_answer  answered_correctly  prior_question_elapsed_time  \\\n",
       "0            3                   1                          NaN   \n",
       "1            2                   1                      37000.0   \n",
       "2            0                   1                      55000.0   \n",
       "3            0                   1                      19000.0   \n",
       "4            1                   1                      11000.0   \n",
       "\n",
       "   prior_question_had_explanation  lect_tag  lect_part lect_type_of  \\\n",
       "0                            <NA>       NaN        NaN          NaN   \n",
       "1                           False       NaN        NaN          NaN   \n",
       "2                           False       NaN        NaN          NaN   \n",
       "3                           False       NaN        NaN          NaN   \n",
       "4                           False       NaN        NaN          NaN   \n",
       "\n",
       "   quest_bundle_id  quest_correct_answer  quest_part      quest_tags  \\\n",
       "0           5692.0                   3.0         5.0           [151]   \n",
       "1           5716.0                   2.0         5.0           [168]   \n",
       "2            128.0                   0.0         1.0  [131, 149, 92]   \n",
       "3           7860.0                   0.0         1.0  [131, 104, 81]   \n",
       "4           7922.0                   1.0         1.0  [131, 149, 92]   \n",
       "\n",
       "     ts_bin  Wrong  Right  \n",
       "0  Ячейка_1   56.0  122.0  \n",
       "1  Ячейка_1   24.0   87.0  \n",
       "2  Ячейка_1    3.0   86.0  \n",
       "3  Ячейка_1    4.0   92.0  \n",
       "4  Ячейка_1    5.0   75.0  "
      ]
     },
     "execution_count": 35,
     "metadata": {},
     "output_type": "execute_result"
    }
   ],
   "source": [
    "tags_list = [x.split() for x in merged_df['quest_tags'].values]\n",
    "merged_df['quest_tags'] = tags_list\n",
    "\n",
    "correct = merged_df[merged_df.answered_correctly != -1].groupby([\"content_id\", 'answered_correctly'], as_index=False).size()\n",
    "correct = correct.pivot(index= \"content_id\", columns='answered_correctly', values='size')\n",
    "correct.columns = ['Wrong', 'Right']\n",
    "correct = correct.fillna(0)\n",
    "correct[['Wrong', 'Right']] = correct[['Wrong', 'Right']].astype(int)\n",
    "merged_df = merged_df.merge(correct, left_on = \"content_id\", right_on = \"content_id\", how = \"left\")\n",
    "merged_df.head()"
   ]
  },
  {
   "cell_type": "markdown",
   "metadata": {},
   "source": [
    "#### Посмотрим сколько правильных/неправильных ответов по каждому тэгу из всех вопросов"
   ]
  },
  {
   "cell_type": "code",
   "execution_count": 36,
   "metadata": {},
   "outputs": [
    {
     "data": {
      "text/html": [
       "<div>\n",
       "<style scoped>\n",
       "    .dataframe tbody tr th:only-of-type {\n",
       "        vertical-align: middle;\n",
       "    }\n",
       "\n",
       "    .dataframe tbody tr th {\n",
       "        vertical-align: top;\n",
       "    }\n",
       "\n",
       "    .dataframe thead th {\n",
       "        text-align: right;\n",
       "    }\n",
       "</style>\n",
       "<table border=\"1\" class=\"dataframe\">\n",
       "  <thead>\n",
       "    <tr style=\"text-align: right;\">\n",
       "      <th></th>\n",
       "      <th>Wrong</th>\n",
       "      <th>Right</th>\n",
       "      <th>Total_questions</th>\n",
       "      <th>Question_ids_with_tag</th>\n",
       "      <th>Percent_correct</th>\n",
       "    </tr>\n",
       "    <tr>\n",
       "      <th>tag</th>\n",
       "      <th></th>\n",
       "      <th></th>\n",
       "      <th></th>\n",
       "      <th></th>\n",
       "      <th></th>\n",
       "    </tr>\n",
       "  </thead>\n",
       "  <tbody>\n",
       "    <tr>\n",
       "      <th>68</th>\n",
       "      <td>6257</td>\n",
       "      <td>51154</td>\n",
       "      <td>57411</td>\n",
       "      <td>559</td>\n",
       "      <td>0.891014</td>\n",
       "    </tr>\n",
       "    <tr>\n",
       "      <th>187</th>\n",
       "      <td>10526</td>\n",
       "      <td>50189</td>\n",
       "      <td>60715</td>\n",
       "      <td>1193</td>\n",
       "      <td>0.826633</td>\n",
       "    </tr>\n",
       "    <tr>\n",
       "      <th>93</th>\n",
       "      <td>133305</td>\n",
       "      <td>611213</td>\n",
       "      <td>744518</td>\n",
       "      <td>2578</td>\n",
       "      <td>0.820951</td>\n",
       "    </tr>\n",
       "    <tr>\n",
       "      <th>115</th>\n",
       "      <td>50137</td>\n",
       "      <td>225004</td>\n",
       "      <td>275141</td>\n",
       "      <td>1557</td>\n",
       "      <td>0.817777</td>\n",
       "    </tr>\n",
       "    <tr>\n",
       "      <th>149</th>\n",
       "      <td>21663</td>\n",
       "      <td>86109</td>\n",
       "      <td>107772</td>\n",
       "      <td>1948</td>\n",
       "      <td>0.798992</td>\n",
       "    </tr>\n",
       "  </tbody>\n",
       "</table>\n",
       "</div>"
      ],
      "text/plain": [
       "      Wrong   Right  Total_questions  Question_ids_with_tag  Percent_correct\n",
       "tag                                                                         \n",
       "68     6257   51154            57411                    559         0.891014\n",
       "187   10526   50189            60715                   1193         0.826633\n",
       "93   133305  611213           744518                   2578         0.820951\n",
       "115   50137  225004           275141                   1557         0.817777\n",
       "149   21663   86109           107772                   1948         0.798992"
      ]
     },
     "execution_count": 36,
     "metadata": {},
     "output_type": "execute_result"
    }
   ],
   "source": [
    "tags_df = pd.DataFrame()\n",
    "for x in range(len(tags)):\n",
    "    df = merged_df[merged_df.quest_tags.apply(lambda l: tags[x] in l)]\n",
    "    df1 = df.agg({'Wrong': ['sum'], 'Right': ['sum']})\n",
    "    df1['Total_questions'] = df1.Wrong + df1.Right\n",
    "    df1['Question_ids_with_tag'] = len(df)\n",
    "    df1['tag'] = tags[x]\n",
    "    df1 = df1.set_index('tag')\n",
    "    tags_df = tags_df.append(df1)\n",
    "\n",
    "tags_df[['Wrong', 'Right', 'Total_questions']] = tags_df[['Wrong', 'Right', 'Total_questions']].astype(int)\n",
    "tags_df['Percent_correct'] = tags_df.Right/tags_df.Total_questions\n",
    "tags_df = tags_df.sort_values(by = \"Percent_correct\", ascending=False)\n",
    "\n",
    "tags_df.head()"
   ]
  },
  {
   "cell_type": "markdown",
   "metadata": {},
   "source": [
    "#### Топ-10 самых простых и самых сложных тэгов"
   ]
  },
  {
   "cell_type": "code",
   "execution_count": 37,
   "metadata": {},
   "outputs": [
    {
     "data": {
      "image/png": "[encoded data removed]",
      "text/plain": [
       "<Figure size 1200x600 with 1 Axes>"
      ]
     },
     "metadata": {},
     "output_type": "display_data"
    }
   ],
   "source": [
    "select_rows = list(range(0,10)) + list(range(178, len(tags_df)))\n",
    "tags_select = tags_df.iloc[select_rows,4]\n",
    "\n",
    "fig = plt.figure(figsize=(12,6))\n",
    "x = tags_select.index\n",
    "y = tags_select.values\n",
    "clrs = ['red' if y < 0.6 else 'green' for y in tags_select.values]\n",
    "tags_select.plot.bar(x, y, color=clrs)\n",
    "plt.title(\"Десять самых легких и десять самых сложных тегов\")\n",
    "plt.xlabel(\"Тэг\")\n",
    "plt.ylabel(\"Процент правильных ответов на вопросы с тегом\")\n",
    "plt.xticks(rotation=90)\n",
    "plt.show()"
   ]
  },
  {
   "cell_type": "markdown",
   "metadata": {},
   "source": [
    "#### Топ-30 самых встречаемых тэгов"
   ]
  },
  {
   "cell_type": "code",
   "execution_count": 38,
   "metadata": {},
   "outputs": [
    {
     "data": {
      "image/png": "[encoded data removed]",
      "text/plain": [
       "<Figure size 1200x600 with 1 Axes>"
      ]
     },
     "metadata": {},
     "output_type": "display_data"
    }
   ],
   "source": [
    "tags_select = tags_df.sort_values(by = \"Total_questions\", ascending = False).iloc[:30,:]\n",
    "tags_select = tags_select[\"Total_questions\"]\n",
    "\n",
    "fig = plt.figure(figsize=(12,6))\n",
    "ax = tags_select.plot.bar()\n",
    "plt.title(\"Тридцать тегов с ответами на большинство вопросов\")\n",
    "plt.xticks(rotation=90)\n",
    "plt.xlabel('Тэг')\n",
    "plt.ticklabel_format(style='plain', axis='y')\n",
    "ax.get_yaxis().set_major_formatter(FuncFormatter(lambda x, p: format(int(x), ',')))\n",
    "plt.show()"
   ]
  },
  {
   "cell_type": "markdown",
   "metadata": {},
   "source": [
    "#### Изучим с какой частью теста студенты справляются лучше"
   ]
  },
  {
   "cell_type": "code",
   "execution_count": 39,
   "metadata": {},
   "outputs": [
    {
     "data": {
      "text/plain": [
       "quest_part\n",
       "1.0    0.709539\n",
       "2.0    0.705434\n",
       "3.0    0.688094\n",
       "6.0    0.653905\n",
       "7.0    0.644250\n",
       "4.0    0.604512\n",
       "5.0    0.598680\n",
       "Name: answered_correctly, dtype: float64"
      ]
     },
     "execution_count": 39,
     "metadata": {},
     "output_type": "execute_result"
    }
   ],
   "source": [
    "merged_df.groupby('quest_part')['answered_correctly'].mean().sort_values(ascending=False)\n",
    "\n",
    "# Получается, что с первой"
   ]
  },
  {
   "cell_type": "markdown",
   "metadata": {},
   "source": [
    "#### Посмотрим на типы лекций"
   ]
  },
  {
   "cell_type": "code",
   "execution_count": 40,
   "metadata": {},
   "outputs": [
    {
     "data": {
      "image/png": "[encoded data removed]",
      "text/plain": [
       "<Figure size 1200x600 with 1 Axes>"
      ]
     },
     "metadata": {},
     "output_type": "display_data"
    }
   ],
   "source": [
    "lect_type_of = merged_df.lect_type_of.value_counts()\n",
    "\n",
    "fig = plt.figure(figsize=(12,6))\n",
    "plt.bar(lect_type_of.index, lect_type_of.values)\n",
    "for i, v in zip(lect_type_of.index, lect_type_of.values):\n",
    "    plt.text(i, v, v, color='black', fontweight='bold', fontsize=14, va='bottom', ha='center')\n",
    "plt.title(\"Типы лекций\")\n",
    "plt.xlabel(\"Краткое описание основной цели лекции\")\n",
    "plt.ylabel(\"Count lecture_id\")\n",
    "plt.xticks(rotation=0)\n",
    "plt.show()"
   ]
  },
  {
   "cell_type": "markdown",
   "metadata": {},
   "source": [
    "#### Посмотрим помогает ли просмотр хотя бы одной лекции студенту отвечать лучше. Как можно заметить, это действительно помогает."
   ]
  },
  {
   "cell_type": "code",
   "execution_count": 41,
   "metadata": {},
   "outputs": [
    {
     "name": "stdout",
     "output_type": "stream",
     "text": [
      "False    1027\n",
      "True      722\n",
      "Name: Watches_lecture, dtype: int64\n"
     ]
    },
    {
     "data": {
      "image/png": "[encoded data removed]",
      "text/plain": [
       "<Figure size 1200x400 with 1 Axes>"
      ]
     },
     "metadata": {},
     "output_type": "display_data"
    }
   ],
   "source": [
    "user_lect = merged_df.groupby([\"user_id\", \"answered_correctly\"]).size().unstack()\n",
    "user_lect.columns = ['Lecture', 'Wrong', 'Right']\n",
    "user_lect['Lecture'] = user_lect['Lecture'].fillna(0)\n",
    "user_lect = user_lect.astype('Int64')\n",
    "user_lect['Watches_lecture'] = np.where(user_lect.Lecture > 0, True, False)\n",
    "\n",
    "watches_l = user_lect.groupby(\"Watches_lecture\").agg({'Wrong': ['sum'], 'Right': ['sum']})\n",
    "print(user_lect.Watches_lecture.value_counts())\n",
    "\n",
    "watches_l['Percent_correct'] = watches_l.Right/(watches_l.Right + watches_l.Wrong)\n",
    "\n",
    "watches_l = watches_l.iloc[:,2]\n",
    "\n",
    "fig = plt.figure(figsize=(12,4))\n",
    "watches_l.plot.barh()\n",
    "for i, v in zip(watches_l.index, watches_l.values):\n",
    "    plt.text(v, i, round(v,2), color='white', fontweight='bold', fontsize=14, ha='right', va='center')\n",
    "\n",
    "plt.title(\"Пользователь смотрит лекции: Процент правильности\")\n",
    "plt.xlabel(\"Процент правильности\")\n",
    "plt.ylabel(\"Пользователь посмотрел хотя бы одну лекцию\")\n",
    "plt.xticks(rotation=0)\n",
    "plt.show()"
   ]
  },
  {
   "cell_type": "markdown",
   "metadata": {},
   "source": [
    "#### Создадим таблицу вопросов/ответов"
   ]
  },
  {
   "cell_type": "code",
   "execution_count": 42,
   "metadata": {},
   "outputs": [
    {
     "data": {
      "text/html": [
       "<div>\n",
       "<style scoped>\n",
       "    .dataframe tbody tr th:only-of-type {\n",
       "        vertical-align: middle;\n",
       "    }\n",
       "\n",
       "    .dataframe tbody tr th {\n",
       "        vertical-align: top;\n",
       "    }\n",
       "\n",
       "    .dataframe thead th {\n",
       "        text-align: right;\n",
       "    }\n",
       "</style>\n",
       "<table border=\"1\" class=\"dataframe\">\n",
       "  <thead>\n",
       "    <tr style=\"text-align: right;\">\n",
       "      <th></th>\n",
       "      <th>timestamp</th>\n",
       "      <th>user_id</th>\n",
       "      <th>content_id</th>\n",
       "      <th>task_container_id</th>\n",
       "      <th>user_answer</th>\n",
       "      <th>answered_correctly</th>\n",
       "      <th>prior_question_elapsed_time</th>\n",
       "      <th>prior_question_had_explanation</th>\n",
       "      <th>quest_bundle_id</th>\n",
       "      <th>quest_correct_answer</th>\n",
       "      <th>quest_part</th>\n",
       "      <th>quest_tags</th>\n",
       "      <th>ts_bin</th>\n",
       "      <th>Wrong</th>\n",
       "      <th>Right</th>\n",
       "    </tr>\n",
       "  </thead>\n",
       "  <tbody>\n",
       "    <tr>\n",
       "      <th>1</th>\n",
       "      <td>56943</td>\n",
       "      <td>115</td>\n",
       "      <td>5716</td>\n",
       "      <td>2</td>\n",
       "      <td>2</td>\n",
       "      <td>1</td>\n",
       "      <td>37000.0</td>\n",
       "      <td>False</td>\n",
       "      <td>5716.0</td>\n",
       "      <td>2.0</td>\n",
       "      <td>5.0</td>\n",
       "      <td>[168]</td>\n",
       "      <td>Ячейка_1</td>\n",
       "      <td>24.0</td>\n",
       "      <td>87.0</td>\n",
       "    </tr>\n",
       "    <tr>\n",
       "      <th>2</th>\n",
       "      <td>118363</td>\n",
       "      <td>115</td>\n",
       "      <td>128</td>\n",
       "      <td>0</td>\n",
       "      <td>0</td>\n",
       "      <td>1</td>\n",
       "      <td>55000.0</td>\n",
       "      <td>False</td>\n",
       "      <td>128.0</td>\n",
       "      <td>0.0</td>\n",
       "      <td>1.0</td>\n",
       "      <td>[131, 149, 92]</td>\n",
       "      <td>Ячейка_1</td>\n",
       "      <td>3.0</td>\n",
       "      <td>86.0</td>\n",
       "    </tr>\n",
       "    <tr>\n",
       "      <th>3</th>\n",
       "      <td>131167</td>\n",
       "      <td>115</td>\n",
       "      <td>7860</td>\n",
       "      <td>3</td>\n",
       "      <td>0</td>\n",
       "      <td>1</td>\n",
       "      <td>19000.0</td>\n",
       "      <td>False</td>\n",
       "      <td>7860.0</td>\n",
       "      <td>0.0</td>\n",
       "      <td>1.0</td>\n",
       "      <td>[131, 104, 81]</td>\n",
       "      <td>Ячейка_1</td>\n",
       "      <td>4.0</td>\n",
       "      <td>92.0</td>\n",
       "    </tr>\n",
       "  </tbody>\n",
       "</table>\n",
       "</div>"
      ],
      "text/plain": [
       "   timestamp  user_id  content_id  task_container_id  user_answer  \\\n",
       "1      56943      115        5716                  2            2   \n",
       "2     118363      115         128                  0            0   \n",
       "3     131167      115        7860                  3            0   \n",
       "\n",
       "   answered_correctly  prior_question_elapsed_time  \\\n",
       "1                   1                      37000.0   \n",
       "2                   1                      55000.0   \n",
       "3                   1                      19000.0   \n",
       "\n",
       "   prior_question_had_explanation  quest_bundle_id  quest_correct_answer  \\\n",
       "1                           False           5716.0                   2.0   \n",
       "2                           False            128.0                   0.0   \n",
       "3                           False           7860.0                   0.0   \n",
       "\n",
       "   quest_part      quest_tags    ts_bin  Wrong  Right  \n",
       "1         5.0           [168]  Ячейка_1   24.0   87.0  \n",
       "2         1.0  [131, 149, 92]  Ячейка_1    3.0   86.0  \n",
       "3         1.0  [131, 104, 81]  Ячейка_1    4.0   92.0  "
      ]
     },
     "execution_count": 42,
     "metadata": {},
     "output_type": "execute_result"
    }
   ],
   "source": [
    "merged_df_quest = merged_df[merged_df.content_type_id == 0]\n",
    "merged_df_quest = merged_df_quest[merged_df_quest.answered_correctly != -1]\n",
    "\n",
    "merged_df_quest.drop(['content_type_id','lect_tag', 'lect_part', 'lect_type_of'], axis = 1, inplace = True)\n",
    "merged_df_quest.dropna(inplace = True)\n",
    "merged_df_quest.head(3)"
   ]
  },
  {
   "cell_type": "code",
   "execution_count": 43,
   "metadata": {},
   "outputs": [
    {
     "data": {
      "text/plain": [
       "1    320451\n",
       "0    167921\n",
       "Name: answered_correctly, dtype: int64"
      ]
     },
     "execution_count": 43,
     "metadata": {},
     "output_type": "execute_result"
    }
   ],
   "source": [
    "merged_df_quest.answered_correctly.value_counts()"
   ]
  },
  {
   "cell_type": "markdown",
   "metadata": {},
   "source": [
    "#### Проверим правильность заполнения таблиц в полях 'user_answer', 'correct_answer' и 'answered_correctly'\n"
   ]
  },
  {
   "cell_type": "code",
   "execution_count": 44,
   "metadata": {},
   "outputs": [
    {
     "data": {
      "text/html": [
       "<div>\n",
       "<style scoped>\n",
       "    .dataframe tbody tr th:only-of-type {\n",
       "        vertical-align: middle;\n",
       "    }\n",
       "\n",
       "    .dataframe tbody tr th {\n",
       "        vertical-align: top;\n",
       "    }\n",
       "\n",
       "    .dataframe thead th {\n",
       "        text-align: right;\n",
       "    }\n",
       "</style>\n",
       "<table border=\"1\" class=\"dataframe\">\n",
       "  <thead>\n",
       "    <tr style=\"text-align: right;\">\n",
       "      <th></th>\n",
       "      <th>timestamp</th>\n",
       "      <th>user_id</th>\n",
       "      <th>content_id</th>\n",
       "      <th>task_container_id</th>\n",
       "      <th>user_answer</th>\n",
       "      <th>answered_correctly</th>\n",
       "      <th>prior_question_elapsed_time</th>\n",
       "      <th>prior_question_had_explanation</th>\n",
       "      <th>quest_bundle_id</th>\n",
       "      <th>quest_correct_answer</th>\n",
       "      <th>quest_part</th>\n",
       "      <th>quest_tags</th>\n",
       "      <th>ts_bin</th>\n",
       "      <th>Wrong</th>\n",
       "      <th>Right</th>\n",
       "      <th>Check_answered_correctly</th>\n",
       "    </tr>\n",
       "  </thead>\n",
       "  <tbody>\n",
       "    <tr>\n",
       "      <th>1</th>\n",
       "      <td>56943</td>\n",
       "      <td>115</td>\n",
       "      <td>5716</td>\n",
       "      <td>2</td>\n",
       "      <td>2</td>\n",
       "      <td>1</td>\n",
       "      <td>37000.0</td>\n",
       "      <td>False</td>\n",
       "      <td>5716.0</td>\n",
       "      <td>2.0</td>\n",
       "      <td>5.0</td>\n",
       "      <td>[168]</td>\n",
       "      <td>Ячейка_1</td>\n",
       "      <td>24.0</td>\n",
       "      <td>87.0</td>\n",
       "      <td>True</td>\n",
       "    </tr>\n",
       "    <tr>\n",
       "      <th>2</th>\n",
       "      <td>118363</td>\n",
       "      <td>115</td>\n",
       "      <td>128</td>\n",
       "      <td>0</td>\n",
       "      <td>0</td>\n",
       "      <td>1</td>\n",
       "      <td>55000.0</td>\n",
       "      <td>False</td>\n",
       "      <td>128.0</td>\n",
       "      <td>0.0</td>\n",
       "      <td>1.0</td>\n",
       "      <td>[131, 149, 92]</td>\n",
       "      <td>Ячейка_1</td>\n",
       "      <td>3.0</td>\n",
       "      <td>86.0</td>\n",
       "      <td>True</td>\n",
       "    </tr>\n",
       "    <tr>\n",
       "      <th>3</th>\n",
       "      <td>131167</td>\n",
       "      <td>115</td>\n",
       "      <td>7860</td>\n",
       "      <td>3</td>\n",
       "      <td>0</td>\n",
       "      <td>1</td>\n",
       "      <td>19000.0</td>\n",
       "      <td>False</td>\n",
       "      <td>7860.0</td>\n",
       "      <td>0.0</td>\n",
       "      <td>1.0</td>\n",
       "      <td>[131, 104, 81]</td>\n",
       "      <td>Ячейка_1</td>\n",
       "      <td>4.0</td>\n",
       "      <td>92.0</td>\n",
       "      <td>True</td>\n",
       "    </tr>\n",
       "  </tbody>\n",
       "</table>\n",
       "</div>"
      ],
      "text/plain": [
       "   timestamp  user_id  content_id  task_container_id  user_answer  \\\n",
       "1      56943      115        5716                  2            2   \n",
       "2     118363      115         128                  0            0   \n",
       "3     131167      115        7860                  3            0   \n",
       "\n",
       "   answered_correctly  prior_question_elapsed_time  \\\n",
       "1                   1                      37000.0   \n",
       "2                   1                      55000.0   \n",
       "3                   1                      19000.0   \n",
       "\n",
       "   prior_question_had_explanation  quest_bundle_id  quest_correct_answer  \\\n",
       "1                           False           5716.0                   2.0   \n",
       "2                           False            128.0                   0.0   \n",
       "3                           False           7860.0                   0.0   \n",
       "\n",
       "   quest_part      quest_tags    ts_bin  Wrong  Right  \\\n",
       "1         5.0           [168]  Ячейка_1   24.0   87.0   \n",
       "2         1.0  [131, 149, 92]  Ячейка_1    3.0   86.0   \n",
       "3         1.0  [131, 104, 81]  Ячейка_1    4.0   92.0   \n",
       "\n",
       "   Check_answered_correctly  \n",
       "1                      True  \n",
       "2                      True  \n",
       "3                      True  "
      ]
     },
     "execution_count": 44,
     "metadata": {},
     "output_type": "execute_result"
    }
   ],
   "source": [
    "def check_answered_correctly(df):\n",
    "    if df.loc['user_answer'] == df.loc['quest_correct_answer'] and df.loc['answered_correctly']:\n",
    "        return True\n",
    "    if df.loc['user_answer'] != df.loc['quest_correct_answer'] and not df.loc['answered_correctly']:\n",
    "        return True\n",
    "    else:\n",
    "        return False\n",
    "\n",
    "merged_df_quest['Check_answered_correctly'] = merged_df_quest.apply(check_answered_correctly, axis=1)\n",
    "merged_df_quest.head(3)\n"
   ]
  },
  {
   "cell_type": "code",
   "execution_count": 45,
   "metadata": {},
   "outputs": [
    {
     "data": {
      "text/plain": [
       "True    488372\n",
       "Name: Check_answered_correctly, dtype: int64"
      ]
     },
     "execution_count": 45,
     "metadata": {},
     "output_type": "execute_result"
    }
   ],
   "source": [
    "merged_df_quest['Check_answered_correctly'].value_counts()\n",
    "\n",
    "# Отсутствие False говорит о том, что ошибок нет. Можно удалить проверочный столбец"
   ]
  },
  {
   "cell_type": "code",
   "execution_count": 46,
   "metadata": {},
   "outputs": [],
   "source": [
    "merged_df_quest.drop(['Check_answered_correctly'], axis = 1, inplace = True)"
   ]
  },
  {
   "cell_type": "markdown",
   "metadata": {},
   "source": [
    "#### Статистика по каждому вопросу"
   ]
  },
  {
   "cell_type": "code",
   "execution_count": 47,
   "metadata": {},
   "outputs": [
    {
     "data": {
      "text/html": [
       "<div>\n",
       "<style scoped>\n",
       "    .dataframe tbody tr th:only-of-type {\n",
       "        vertical-align: middle;\n",
       "    }\n",
       "\n",
       "    .dataframe tbody tr th {\n",
       "        vertical-align: top;\n",
       "    }\n",
       "\n",
       "    .dataframe thead th {\n",
       "        text-align: right;\n",
       "    }\n",
       "</style>\n",
       "<table border=\"1\" class=\"dataframe\">\n",
       "  <thead>\n",
       "    <tr style=\"text-align: right;\">\n",
       "      <th></th>\n",
       "      <th>answered_correctly_mean</th>\n",
       "      <th>quest_part</th>\n",
       "    </tr>\n",
       "    <tr>\n",
       "      <th>content_id</th>\n",
       "      <th></th>\n",
       "      <th></th>\n",
       "    </tr>\n",
       "  </thead>\n",
       "  <tbody>\n",
       "    <tr>\n",
       "      <th>11600</th>\n",
       "      <td>1.0</td>\n",
       "      <td>3.0</td>\n",
       "    </tr>\n",
       "    <tr>\n",
       "      <th>11797</th>\n",
       "      <td>1.0</td>\n",
       "      <td>1.0</td>\n",
       "    </tr>\n",
       "    <tr>\n",
       "      <th>12981</th>\n",
       "      <td>1.0</td>\n",
       "      <td>3.0</td>\n",
       "    </tr>\n",
       "    <tr>\n",
       "      <th>12982</th>\n",
       "      <td>1.0</td>\n",
       "      <td>3.0</td>\n",
       "    </tr>\n",
       "    <tr>\n",
       "      <th>11834</th>\n",
       "      <td>1.0</td>\n",
       "      <td>3.0</td>\n",
       "    </tr>\n",
       "    <tr>\n",
       "      <th>...</th>\n",
       "      <td>...</td>\n",
       "      <td>...</td>\n",
       "    </tr>\n",
       "    <tr>\n",
       "      <th>12385</th>\n",
       "      <td>0.0</td>\n",
       "      <td>7.0</td>\n",
       "    </tr>\n",
       "    <tr>\n",
       "      <th>12386</th>\n",
       "      <td>0.0</td>\n",
       "      <td>7.0</td>\n",
       "    </tr>\n",
       "    <tr>\n",
       "      <th>12387</th>\n",
       "      <td>0.0</td>\n",
       "      <td>6.0</td>\n",
       "    </tr>\n",
       "    <tr>\n",
       "      <th>12401</th>\n",
       "      <td>0.0</td>\n",
       "      <td>6.0</td>\n",
       "    </tr>\n",
       "    <tr>\n",
       "      <th>3345</th>\n",
       "      <td>0.0</td>\n",
       "      <td>4.0</td>\n",
       "    </tr>\n",
       "  </tbody>\n",
       "</table>\n",
       "<p>12883 rows × 2 columns</p>\n",
       "</div>"
      ],
      "text/plain": [
       "            answered_correctly_mean  quest_part\n",
       "content_id                                     \n",
       "11600                           1.0         3.0\n",
       "11797                           1.0         1.0\n",
       "12981                           1.0         3.0\n",
       "12982                           1.0         3.0\n",
       "11834                           1.0         3.0\n",
       "...                             ...         ...\n",
       "12385                           0.0         7.0\n",
       "12386                           0.0         7.0\n",
       "12387                           0.0         6.0\n",
       "12401                           0.0         6.0\n",
       "3345                            0.0         4.0\n",
       "\n",
       "[12883 rows x 2 columns]"
      ]
     },
     "execution_count": 47,
     "metadata": {},
     "output_type": "execute_result"
    }
   ],
   "source": [
    "statistics_quest_content_id = merged_df_quest[['content_id', 'answered_correctly']].groupby(['content_id']).agg(['mean'])\n",
    "statistics_quest_content_id.columns = ['answered_correctly_mean']\n",
    "statistics_quest_content_id['quest_part'] = merged_df.quest_part\n",
    "\n",
    "statistics_quest_content_id.sort_values(by=['answered_correctly_mean'], ascending = False)"
   ]
  },
  {
   "cell_type": "code",
   "execution_count": 48,
   "metadata": {},
   "outputs": [
    {
     "data": {
      "text/plain": [
       "array([[<AxesSubplot:title={'center':'answered_correctly_mean'}>,\n",
       "        <AxesSubplot:title={'center':'quest_part'}>]], dtype=object)"
      ]
     },
     "execution_count": 48,
     "metadata": {},
     "output_type": "execute_result"
    },
    {
     "data": {
      "image/png": "[encoded data removed]",
      "text/plain": [
       "<Figure size 640x480 with 2 Axes>"
      ]
     },
     "metadata": {},
     "output_type": "display_data"
    }
   ],
   "source": [
    "statistics_quest_content_id.hist(align='mid')"
   ]
  },
  {
   "cell_type": "markdown",
   "metadata": {},
   "source": [
    "#### Вопросы, на которые никто не ответил"
   ]
  },
  {
   "cell_type": "code",
   "execution_count": 49,
   "metadata": {},
   "outputs": [
    {
     "name": "stdout",
     "output_type": "stream",
     "text": [
      "200 вопросов\n"
     ]
    }
   ],
   "source": [
    "lst = list(statistics_quest_content_id[statistics_quest_content_id.answered_correctly_mean == 0].index)\n",
    "print(f'{len(lst)} вопросов')\n",
    "\n",
    "# Чтобы посмотреть какие конкретно, нужно раскомментировать следующую строчку\n",
    "# print(lst)"
   ]
  },
  {
   "cell_type": "markdown",
   "metadata": {},
   "source": [
    "#### Вопросы, на которые ответили все"
   ]
  },
  {
   "cell_type": "code",
   "execution_count": 50,
   "metadata": {},
   "outputs": [
    {
     "name": "stdout",
     "output_type": "stream",
     "text": [
      "1230 вопросов\n"
     ]
    }
   ],
   "source": [
    "lst = list(statistics_quest_content_id[statistics_quest_content_id.answered_correctly_mean == 1].index)\n",
    "print(f'{len(lst)} вопросов')\n",
    "\n",
    "# Чтобы посмотреть какие конкретно, нужно раскомментировать следующую строчку\n",
    "# print(lst)"
   ]
  },
  {
   "cell_type": "markdown",
   "metadata": {},
   "source": [
    "#### Статистика по каждому пользователю"
   ]
  },
  {
   "cell_type": "code",
   "execution_count": 51,
   "metadata": {},
   "outputs": [
    {
     "data": {
      "text/html": [
       "<div>\n",
       "<style scoped>\n",
       "    .dataframe tbody tr th:only-of-type {\n",
       "        vertical-align: middle;\n",
       "    }\n",
       "\n",
       "    .dataframe tbody tr th {\n",
       "        vertical-align: top;\n",
       "    }\n",
       "\n",
       "    .dataframe thead th {\n",
       "        text-align: right;\n",
       "    }\n",
       "</style>\n",
       "<table border=\"1\" class=\"dataframe\">\n",
       "  <thead>\n",
       "    <tr style=\"text-align: right;\">\n",
       "      <th></th>\n",
       "      <th>answered_correctly_mean</th>\n",
       "      <th>sum_correct</th>\n",
       "      <th>count</th>\n",
       "    </tr>\n",
       "    <tr>\n",
       "      <th>user_id</th>\n",
       "      <th></th>\n",
       "      <th></th>\n",
       "      <th></th>\n",
       "    </tr>\n",
       "  </thead>\n",
       "  <tbody>\n",
       "    <tr>\n",
       "      <th>1283420</th>\n",
       "      <td>0.828763</td>\n",
       "      <td>6195.0</td>\n",
       "      <td>7475</td>\n",
       "    </tr>\n",
       "    <tr>\n",
       "      <th>4421282</th>\n",
       "      <td>0.757293</td>\n",
       "      <td>5270.0</td>\n",
       "      <td>6959</td>\n",
       "    </tr>\n",
       "    <tr>\n",
       "      <th>3838215</th>\n",
       "      <td>0.757025</td>\n",
       "      <td>5119.0</td>\n",
       "      <td>6762</td>\n",
       "    </tr>\n",
       "    <tr>\n",
       "      <th>9418512</th>\n",
       "      <td>0.608815</td>\n",
       "      <td>4420.0</td>\n",
       "      <td>7260</td>\n",
       "    </tr>\n",
       "    <tr>\n",
       "      <th>7051394</th>\n",
       "      <td>0.839583</td>\n",
       "      <td>4344.0</td>\n",
       "      <td>5174</td>\n",
       "    </tr>\n",
       "    <tr>\n",
       "      <th>...</th>\n",
       "      <td>...</td>\n",
       "      <td>...</td>\n",
       "      <td>...</td>\n",
       "    </tr>\n",
       "    <tr>\n",
       "      <th>1946295</th>\n",
       "      <td>0.500000</td>\n",
       "      <td>1.0</td>\n",
       "      <td>2</td>\n",
       "    </tr>\n",
       "    <tr>\n",
       "      <th>4361868</th>\n",
       "      <td>0.166667</td>\n",
       "      <td>1.0</td>\n",
       "      <td>6</td>\n",
       "    </tr>\n",
       "    <tr>\n",
       "      <th>8890834</th>\n",
       "      <td>0.100000</td>\n",
       "      <td>1.0</td>\n",
       "      <td>10</td>\n",
       "    </tr>\n",
       "    <tr>\n",
       "      <th>2148001</th>\n",
       "      <td>0.000000</td>\n",
       "      <td>0.0</td>\n",
       "      <td>1</td>\n",
       "    </tr>\n",
       "    <tr>\n",
       "      <th>1360462</th>\n",
       "      <td>0.000000</td>\n",
       "      <td>0.0</td>\n",
       "      <td>6</td>\n",
       "    </tr>\n",
       "  </tbody>\n",
       "</table>\n",
       "<p>1748 rows × 3 columns</p>\n",
       "</div>"
      ],
      "text/plain": [
       "         answered_correctly_mean  sum_correct  count\n",
       "user_id                                             \n",
       "1283420                 0.828763       6195.0   7475\n",
       "4421282                 0.757293       5270.0   6959\n",
       "3838215                 0.757025       5119.0   6762\n",
       "9418512                 0.608815       4420.0   7260\n",
       "7051394                 0.839583       4344.0   5174\n",
       "...                          ...          ...    ...\n",
       "1946295                 0.500000          1.0      2\n",
       "4361868                 0.166667          1.0      6\n",
       "8890834                 0.100000          1.0     10\n",
       "2148001                 0.000000          0.0      1\n",
       "1360462                 0.000000          0.0      6\n",
       "\n",
       "[1748 rows x 3 columns]"
      ]
     },
     "execution_count": 51,
     "metadata": {},
     "output_type": "execute_result"
    }
   ],
   "source": [
    "statistics_quest_user_id = merged_df_quest[['user_id', 'answered_correctly']].groupby(['user_id']).agg(['mean', 'sum', 'count'])\n",
    "statistics_quest_user_id.columns = ['answered_correctly_mean', 'sum_correct', 'count']\n",
    "statistics_quest_user_id.sort_values(by=['sum_correct'], ascending = False)"
   ]
  },
  {
   "cell_type": "code",
   "execution_count": 52,
   "metadata": {},
   "outputs": [
    {
     "data": {
      "text/plain": [
       "<AxesSubplot:xlabel='answered_correctly_mean', ylabel='count'>"
      ]
     },
     "execution_count": 52,
     "metadata": {},
     "output_type": "execute_result"
    },
    {
     "data": {
      "image/png": "[encoded data removed]",
      "text/plain": [
       "<Figure size 640x480 with 1 Axes>"
      ]
     },
     "metadata": {},
     "output_type": "display_data"
    }
   ],
   "source": [
    "statistics_quest_user_id.plot.scatter(x='answered_correctly_mean', y='count')\n",
    "\n",
    "# Те пользователи, которые отвечали на все вопросы правильно или же, наоборот, на большинство вопросов неправильно, столнулись с небольшим количеством заданных им вопросов (до 2-х тысяч).\n",
    "\n",
    "# Те люди, которые ответили на наибольшее число вопросов, имеют \"правильность\" ответов в диапазоне от 0,6 до 0,9."
   ]
  },
  {
   "cell_type": "markdown",
   "metadata": {},
   "source": [
    "#### Пользователи, которые ответили на все вопросы правильно"
   ]
  },
  {
   "cell_type": "code",
   "execution_count": 53,
   "metadata": {},
   "outputs": [
    {
     "name": "stdout",
     "output_type": "stream",
     "text": [
      "0 пользователей ответили на все вопросы\n"
     ]
    }
   ],
   "source": [
    "df = statistics_quest_user_id[statistics_quest_user_id.answered_correctly_mean == 1]\n",
    "lst = list(df.index)\n",
    "print(f'{len(lst)} пользователей ответили на все вопросы')\n",
    "\n",
    "# В моей выборке из 500.000 строк не нашлось таких пользователей"
   ]
  },
  {
   "cell_type": "code",
   "execution_count": 54,
   "metadata": {},
   "outputs": [
    {
     "name": "stdout",
     "output_type": "stream",
     "text": [
      "Более половины студентов набрали коэффициент правильности ответов, равный 0.67\n"
     ]
    }
   ],
   "source": [
    "print(f'Более половины студентов набрали коэффициент правильности ответов, равный \\\n",
    "{round(statistics_quest_user_id.answered_correctly_mean.quantile(0.75), 2)}')"
   ]
  },
  {
   "cell_type": "code",
   "execution_count": 55,
   "metadata": {},
   "outputs": [
    {
     "data": {
      "text/html": [
       "<div>\n",
       "<style scoped>\n",
       "    .dataframe tbody tr th:only-of-type {\n",
       "        vertical-align: middle;\n",
       "    }\n",
       "\n",
       "    .dataframe tbody tr th {\n",
       "        vertical-align: top;\n",
       "    }\n",
       "\n",
       "    .dataframe thead th {\n",
       "        text-align: right;\n",
       "    }\n",
       "</style>\n",
       "<table border=\"1\" class=\"dataframe\">\n",
       "  <thead>\n",
       "    <tr style=\"text-align: right;\">\n",
       "      <th></th>\n",
       "      <th>explanation_sum</th>\n",
       "    </tr>\n",
       "    <tr>\n",
       "      <th>user_id</th>\n",
       "      <th></th>\n",
       "    </tr>\n",
       "  </thead>\n",
       "  <tbody>\n",
       "    <tr>\n",
       "      <th>115</th>\n",
       "      <td>6</td>\n",
       "    </tr>\n",
       "    <tr>\n",
       "      <th>124</th>\n",
       "      <td>0</td>\n",
       "    </tr>\n",
       "    <tr>\n",
       "      <th>2746</th>\n",
       "      <td>11</td>\n",
       "    </tr>\n",
       "    <tr>\n",
       "      <th>5382</th>\n",
       "      <td>113</td>\n",
       "    </tr>\n",
       "    <tr>\n",
       "      <th>8623</th>\n",
       "      <td>96</td>\n",
       "    </tr>\n",
       "    <tr>\n",
       "      <th>8701</th>\n",
       "      <td>9</td>\n",
       "    </tr>\n",
       "    <tr>\n",
       "      <th>12741</th>\n",
       "      <td>250</td>\n",
       "    </tr>\n",
       "    <tr>\n",
       "      <th>13134</th>\n",
       "      <td>1233</td>\n",
       "    </tr>\n",
       "    <tr>\n",
       "      <th>24418</th>\n",
       "      <td>6251</td>\n",
       "    </tr>\n",
       "    <tr>\n",
       "      <th>24600</th>\n",
       "      <td>19</td>\n",
       "    </tr>\n",
       "  </tbody>\n",
       "</table>\n",
       "</div>"
      ],
      "text/plain": [
       "         explanation_sum\n",
       "user_id                 \n",
       "115                    6\n",
       "124                    0\n",
       "2746                  11\n",
       "5382                 113\n",
       "8623                  96\n",
       "8701                   9\n",
       "12741                250\n",
       "13134               1233\n",
       "24418               6251\n",
       "24600                 19"
      ]
     },
     "execution_count": 55,
     "metadata": {},
     "output_type": "execute_result"
    }
   ],
   "source": [
    "had_explanation_quest_user_id = merged_df_quest[['user_id', 'prior_question_had_explanation']].groupby(['user_id']).agg(['sum']).sort_values(by=['user_id'])\n",
    "had_explanation_quest_user_id.columns = ['explanation_sum']\n",
    "had_explanation_quest_user_id.head(10)"
   ]
  },
  {
   "cell_type": "code",
   "execution_count": 56,
   "metadata": {},
   "outputs": [
    {
     "data": {
      "text/html": [
       "<div>\n",
       "<style scoped>\n",
       "    .dataframe tbody tr th:only-of-type {\n",
       "        vertical-align: middle;\n",
       "    }\n",
       "\n",
       "    .dataframe tbody tr th {\n",
       "        vertical-align: top;\n",
       "    }\n",
       "\n",
       "    .dataframe thead th {\n",
       "        text-align: right;\n",
       "    }\n",
       "</style>\n",
       "<table border=\"1\" class=\"dataframe\">\n",
       "  <thead>\n",
       "    <tr style=\"text-align: right;\">\n",
       "      <th></th>\n",
       "      <th>answered_correctly_mean</th>\n",
       "      <th>sum_correct</th>\n",
       "      <th>count</th>\n",
       "      <th>explanation_sum</th>\n",
       "    </tr>\n",
       "    <tr>\n",
       "      <th>user_id</th>\n",
       "      <th></th>\n",
       "      <th></th>\n",
       "      <th></th>\n",
       "      <th></th>\n",
       "    </tr>\n",
       "  </thead>\n",
       "  <tbody>\n",
       "    <tr>\n",
       "      <th>115</th>\n",
       "      <td>0.688889</td>\n",
       "      <td>31.0</td>\n",
       "      <td>45</td>\n",
       "      <td>6</td>\n",
       "    </tr>\n",
       "    <tr>\n",
       "      <th>124</th>\n",
       "      <td>0.206897</td>\n",
       "      <td>6.0</td>\n",
       "      <td>29</td>\n",
       "      <td>0</td>\n",
       "    </tr>\n",
       "    <tr>\n",
       "      <th>2746</th>\n",
       "      <td>0.611111</td>\n",
       "      <td>11.0</td>\n",
       "      <td>18</td>\n",
       "      <td>11</td>\n",
       "    </tr>\n",
       "    <tr>\n",
       "      <th>5382</th>\n",
       "      <td>0.669355</td>\n",
       "      <td>83.0</td>\n",
       "      <td>124</td>\n",
       "      <td>113</td>\n",
       "    </tr>\n",
       "    <tr>\n",
       "      <th>8623</th>\n",
       "      <td>0.638889</td>\n",
       "      <td>69.0</td>\n",
       "      <td>108</td>\n",
       "      <td>96</td>\n",
       "    </tr>\n",
       "    <tr>\n",
       "      <th>8701</th>\n",
       "      <td>0.562500</td>\n",
       "      <td>9.0</td>\n",
       "      <td>16</td>\n",
       "      <td>9</td>\n",
       "    </tr>\n",
       "    <tr>\n",
       "      <th>12741</th>\n",
       "      <td>0.575758</td>\n",
       "      <td>152.0</td>\n",
       "      <td>264</td>\n",
       "      <td>250</td>\n",
       "    </tr>\n",
       "    <tr>\n",
       "      <th>13134</th>\n",
       "      <td>0.706119</td>\n",
       "      <td>877.0</td>\n",
       "      <td>1242</td>\n",
       "      <td>1233</td>\n",
       "    </tr>\n",
       "    <tr>\n",
       "      <th>24418</th>\n",
       "      <td>0.690385</td>\n",
       "      <td>4337.0</td>\n",
       "      <td>6282</td>\n",
       "      <td>6251</td>\n",
       "    </tr>\n",
       "    <tr>\n",
       "      <th>24600</th>\n",
       "      <td>0.326531</td>\n",
       "      <td>16.0</td>\n",
       "      <td>49</td>\n",
       "      <td>19</td>\n",
       "    </tr>\n",
       "  </tbody>\n",
       "</table>\n",
       "</div>"
      ],
      "text/plain": [
       "         answered_correctly_mean  sum_correct  count  explanation_sum\n",
       "user_id                                                              \n",
       "115                     0.688889         31.0     45                6\n",
       "124                     0.206897          6.0     29                0\n",
       "2746                    0.611111         11.0     18               11\n",
       "5382                    0.669355         83.0    124              113\n",
       "8623                    0.638889         69.0    108               96\n",
       "8701                    0.562500          9.0     16                9\n",
       "12741                   0.575758        152.0    264              250\n",
       "13134                   0.706119        877.0   1242             1233\n",
       "24418                   0.690385       4337.0   6282             6251\n",
       "24600                   0.326531         16.0     49               19"
      ]
     },
     "execution_count": 56,
     "metadata": {},
     "output_type": "execute_result"
    }
   ],
   "source": [
    "statistics_quest_user_id = statistics_quest_user_id.merge(had_explanation_quest_user_id, how='left', left_on='user_id', right_on='user_id')\n",
    "statistics_quest_user_id.head(10)"
   ]
  },
  {
   "cell_type": "code",
   "execution_count": 57,
   "metadata": {},
   "outputs": [
    {
     "data": {
      "text/plain": [
       "<AxesSubplot:xlabel='explanation_sum', ylabel='sum_correct'>"
      ]
     },
     "execution_count": 57,
     "metadata": {},
     "output_type": "execute_result"
    },
    {
     "data": {
      "image/png": "[encoded data removed]",
      "text/plain": [
       "<Figure size 640x480 with 1 Axes>"
      ]
     },
     "metadata": {},
     "output_type": "display_data"
    }
   ],
   "source": [
    "statistics_quest_user_id.plot(x='explanation_sum', y='sum_correct',  kind = 'scatter')"
   ]
  },
  {
   "cell_type": "markdown",
   "metadata": {},
   "source": [
    "#### С увеличением числа объяснений наблюдается рост правильных ответов каждого студента"
   ]
  },
  {
   "cell_type": "code",
   "execution_count": 58,
   "metadata": {},
   "outputs": [
    {
     "data": {
      "text/plain": [
       "<AxesSubplot:xlabel='explanation_sum', ylabel='count'>"
      ]
     },
     "execution_count": 58,
     "metadata": {},
     "output_type": "execute_result"
    },
    {
     "data": {
      "image/png": "[encoded data removed]",
      "text/plain": [
       "<Figure size 640x480 with 1 Axes>"
      ]
     },
     "metadata": {},
     "output_type": "display_data"
    }
   ],
   "source": [
    "statistics_quest_user_id.plot(x='explanation_sum', y='count',  kind = 'scatter')"
   ]
  },
  {
   "cell_type": "markdown",
   "metadata": {},
   "source": [
    "#### Чем больше пользователь отвечает на вопросы, тем больше смотрит \"объяснения\""
   ]
  },
  {
   "cell_type": "code",
   "execution_count": 59,
   "metadata": {},
   "outputs": [
    {
     "data": {
      "text/plain": [
       "<AxesSubplot:xlabel='answered_correctly_mean', ylabel='explanation_sum'>"
      ]
     },
     "execution_count": 59,
     "metadata": {},
     "output_type": "execute_result"
    },
    {
     "data": {
      "image/png": "[encoded data removed]",
      "text/plain": [
       "<Figure size 640x480 with 1 Axes>"
      ]
     },
     "metadata": {},
     "output_type": "display_data"
    }
   ],
   "source": [
    "statistics_quest_user_id.plot(y='explanation_sum', x='answered_correctly_mean',  kind = 'scatter')\n",
    "\n",
    "# График повторяет зависимость answered_correctly_mean и count. То есть чем больше задано вопросов, тем больше просмотрено \"объяснений\""
   ]
  }
 ],
 "metadata": {
  "kernelspec": {
   "display_name": "Python 3.9.8 64-bit",
   "language": "python",
   "name": "python3"
  },
  "language_info": {
   "codemirror_mode": {
    "name": "ipython",
    "version": 3
   },
   "file_extension": ".py",
   "mimetype": "text/x-python",
   "name": "python",
   "nbconvert_exporter": "python",
   "pygments_lexer": "ipython3",
   "version": "3.9.8"
  },
  "orig_nbformat": 4,
  "vscode": {
   "interpreter": {
    "hash": "81794d4967e6c3204c66dcd87b604927b115b27c00565d3d43f05ba2f3a2cb0d"
   }
  }
 },
 "nbformat": 4,
 "nbformat_minor": 2
}
